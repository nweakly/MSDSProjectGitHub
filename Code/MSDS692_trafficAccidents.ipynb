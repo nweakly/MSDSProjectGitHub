{
 "cells": [
  {
   "cell_type": "markdown",
   "metadata": {},
   "source": [
    "# MSDS692 Project: Data Preprocessing and EDA - Car Accidents, Denver, CO\n",
    "## Natalia Weakly    \n",
    "\n",
    "#### Original data source: https://www.denvergov.org/opendata/dataset/city-and-county-of-denver-traffic-accidents "
   ]
  },
  {
   "cell_type": "code",
   "execution_count": 2,
   "metadata": {},
   "outputs": [],
   "source": [
    "# Imports\n",
    "import pandas as pd\n",
    "import numpy as np\n",
    "import datetime\n",
    "import folium\n",
    "import seaborn as sns\n",
    "import matplotlib.pyplot as plt"
   ]
  },
  {
   "cell_type": "code",
   "execution_count": 3,
   "metadata": {},
   "outputs": [],
   "source": [
    "accidents=pd.read_csv('../MSDSProject/traffic_accidents2.csv', parse_dates=True, low_memory=False)"
   ]
  },
  {
   "cell_type": "markdown",
   "metadata": {},
   "source": [
    "The Denver Police Department dataset downloaded from https://www.denvergov.org/opendata/dataset/city-and-county-of-denver-traffic-accidents includes the accidents that happened within the City and County of Denver limits as reported in accordance with the National Incident-Based Reporting System (NIBRS). It is important to note the following:\n",
    "- The data set includes information about the accidents that happened during the past five calendar years plus the current year to date. \n",
    "- The data set includes only information about the accidents that had reported damage $1,000.00 and more, resulted in injury or fatality, and/or drugs or alcohol were involved. \n",
    "- The dataset is dynamic, as the system allows continuous additions, deletions, and modifications at any time with the goal of reporting the most accurate information up to date. As a result of the continuous data entry, the number of accidents even for past periods may change. \n",
    "- The data set contains both information as reported by third parties and the data confirmed through investigations by the Denver PD. The data becomes more accurate over time. It usually becomes more reliable about 30 days past an incident date.\n",
    "- Accident locations are approximate and are not always mapped to an actual location of each accident. Some accidents might not be mapped to a location at all if the information is insufficient."
   ]
  },
  {
   "cell_type": "code",
   "execution_count": 4,
   "metadata": {},
   "outputs": [
    {
     "name": "stdout",
     "output_type": "stream",
     "text": [
      "<class 'pandas.core.frame.DataFrame'>\n",
      "RangeIndex: 164227 entries, 0 to 164226\n",
      "Data columns (total 20 columns):\n",
      "OBJECTID_1                164227 non-null int64\n",
      "INCIDENT_ID               164227 non-null float64\n",
      "OFFENSE_ID                164227 non-null int64\n",
      "OFFENSE_CODE              164227 non-null int64\n",
      "OFFENSE_CODE_EXTENSION    164227 non-null int64\n",
      "OFFENSE_TYPE_ID           164227 non-null object\n",
      "OFFENSE_CATEGORY_ID       164227 non-null object\n",
      "FIRST_OCCURENCE_DATE      164227 non-null object\n",
      "LAST_OCCURENCE_DATE       164227 non-null object\n",
      "REPORTED_DATE             164227 non-null object\n",
      "INCIDENT_ADDRESS          164227 non-null object\n",
      "GEO_X                     164227 non-null float64\n",
      "GEO_Y                     164227 non-null float64\n",
      "GEO_LON                   164227 non-null float64\n",
      "GEO_LAT                   164227 non-null float64\n",
      "DISTRICT_ID               164227 non-null object\n",
      "PRECINCT_ID               164227 non-null object\n",
      "NEIGHBORHOOD_ID           164227 non-null object\n",
      "BICYCLE_IND               164227 non-null int64\n",
      "PEDESTRIAN_IND            164227 non-null int64\n",
      "dtypes: float64(5), int64(6), object(9)\n",
      "memory usage: 25.1+ MB\n"
     ]
    }
   ],
   "source": [
    "# Check the load results\n",
    "accidents.info()"
   ]
  },
  {
   "cell_type": "code",
   "execution_count": 5,
   "metadata": {},
   "outputs": [
    {
     "data": {
      "text/html": [
       "<div>\n",
       "<style scoped>\n",
       "    .dataframe tbody tr th:only-of-type {\n",
       "        vertical-align: middle;\n",
       "    }\n",
       "\n",
       "    .dataframe tbody tr th {\n",
       "        vertical-align: top;\n",
       "    }\n",
       "\n",
       "    .dataframe thead th {\n",
       "        text-align: right;\n",
       "    }\n",
       "</style>\n",
       "<table border=\"1\" class=\"dataframe\">\n",
       "  <thead>\n",
       "    <tr style=\"text-align: right;\">\n",
       "      <th></th>\n",
       "      <th>OBJECTID_1</th>\n",
       "      <th>INCIDENT_ID</th>\n",
       "      <th>OFFENSE_ID</th>\n",
       "      <th>OFFENSE_CODE</th>\n",
       "      <th>OFFENSE_CODE_EXTENSION</th>\n",
       "      <th>OFFENSE_TYPE_ID</th>\n",
       "      <th>OFFENSE_CATEGORY_ID</th>\n",
       "      <th>FIRST_OCCURENCE_DATE</th>\n",
       "      <th>LAST_OCCURENCE_DATE</th>\n",
       "      <th>REPORTED_DATE</th>\n",
       "      <th>INCIDENT_ADDRESS</th>\n",
       "      <th>GEO_X</th>\n",
       "      <th>GEO_Y</th>\n",
       "      <th>GEO_LON</th>\n",
       "      <th>GEO_LAT</th>\n",
       "      <th>DISTRICT_ID</th>\n",
       "      <th>PRECINCT_ID</th>\n",
       "      <th>NEIGHBORHOOD_ID</th>\n",
       "      <th>BICYCLE_IND</th>\n",
       "      <th>PEDESTRIAN_IND</th>\n",
       "    </tr>\n",
       "  </thead>\n",
       "  <tbody>\n",
       "    <tr>\n",
       "      <th>0</th>\n",
       "      <td>200</td>\n",
       "      <td>2.012513e+09</td>\n",
       "      <td>201251274154010</td>\n",
       "      <td>5401</td>\n",
       "      <td>0</td>\n",
       "      <td>TRAF-HIT &amp; RUN</td>\n",
       "      <td>TRAF - ACCIDENT - HIT &amp; RUN</td>\n",
       "      <td>2012-11-02 18:20:00</td>\n",
       "      <td>None</td>\n",
       "      <td>2012-11-03 08:52:00</td>\n",
       "      <td>1900 BLOCK S SHERIDAN BLVD</td>\n",
       "      <td>3125852.0</td>\n",
       "      <td>1673648.0</td>\n",
       "      <td>-105.052849</td>\n",
       "      <td>39.682112</td>\n",
       "      <td>4</td>\n",
       "      <td>421</td>\n",
       "      <td>Harvey Park</td>\n",
       "      <td>0</td>\n",
       "      <td>0</td>\n",
       "    </tr>\n",
       "    <tr>\n",
       "      <th>1</th>\n",
       "      <td>201</td>\n",
       "      <td>2.012516e+09</td>\n",
       "      <td>201251634354410</td>\n",
       "      <td>5441</td>\n",
       "      <td>0</td>\n",
       "      <td>TRF-ACCIDENT</td>\n",
       "      <td>TRAF - ACCIDENT</td>\n",
       "      <td>2012-11-05 14:16:00</td>\n",
       "      <td>None</td>\n",
       "      <td>2012-11-05 15:12:00</td>\n",
       "      <td>E HAMPDEN AVE / S YOSEMITE ST</td>\n",
       "      <td>3173225.0</td>\n",
       "      <td>1663345.0</td>\n",
       "      <td>-104.884786</td>\n",
       "      <td>39.653067</td>\n",
       "      <td>3</td>\n",
       "      <td>323</td>\n",
       "      <td>Hampden South</td>\n",
       "      <td>0</td>\n",
       "      <td>0</td>\n",
       "    </tr>\n",
       "    <tr>\n",
       "      <th>2</th>\n",
       "      <td>203</td>\n",
       "      <td>2.012141e+09</td>\n",
       "      <td>201214081754010</td>\n",
       "      <td>5401</td>\n",
       "      <td>0</td>\n",
       "      <td>TRAF-HIT &amp; RUN</td>\n",
       "      <td>TRAF - ACCIDENT - HIT &amp; RUN</td>\n",
       "      <td>2012-04-02 17:00:00</td>\n",
       "      <td>None</td>\n",
       "      <td>2012-04-06 14:37:00</td>\n",
       "      <td>1300 BLOCK N BROADWAY ST</td>\n",
       "      <td>3144304.0</td>\n",
       "      <td>1693793.0</td>\n",
       "      <td>-104.986886</td>\n",
       "      <td>39.737147</td>\n",
       "      <td>6</td>\n",
       "      <td>623</td>\n",
       "      <td>Capitol Hill</td>\n",
       "      <td>0</td>\n",
       "      <td>0</td>\n",
       "    </tr>\n",
       "    <tr>\n",
       "      <th>3</th>\n",
       "      <td>204</td>\n",
       "      <td>2.012253e+09</td>\n",
       "      <td>201225335454410</td>\n",
       "      <td>5441</td>\n",
       "      <td>0</td>\n",
       "      <td>TRF-ACCIDENT</td>\n",
       "      <td>TRAF - ACCIDENT</td>\n",
       "      <td>2012-06-11 17:05:00</td>\n",
       "      <td>None</td>\n",
       "      <td>2012-06-11 17:43:00</td>\n",
       "      <td>600 BLOCK E EXPOSITION AVE</td>\n",
       "      <td>3146357.0</td>\n",
       "      <td>1681693.0</td>\n",
       "      <td>-104.979833</td>\n",
       "      <td>39.703898</td>\n",
       "      <td>3</td>\n",
       "      <td>311</td>\n",
       "      <td>Washington Park West</td>\n",
       "      <td>0</td>\n",
       "      <td>0</td>\n",
       "    </tr>\n",
       "    <tr>\n",
       "      <th>4</th>\n",
       "      <td>206</td>\n",
       "      <td>2.012119e+09</td>\n",
       "      <td>201211878854410</td>\n",
       "      <td>5441</td>\n",
       "      <td>0</td>\n",
       "      <td>TRF-ACCIDENT</td>\n",
       "      <td>TRAF - ACCIDENT</td>\n",
       "      <td>2012-03-23 11:01:00</td>\n",
       "      <td>None</td>\n",
       "      <td>2012-03-23 11:10:00.000001</td>\n",
       "      <td>I25 HWYSB / W COLFAX AVE</td>\n",
       "      <td>3136627.0</td>\n",
       "      <td>1694950.0</td>\n",
       "      <td>-105.014162</td>\n",
       "      <td>39.740439</td>\n",
       "      <td>1</td>\n",
       "      <td>121</td>\n",
       "      <td>Lincoln Park</td>\n",
       "      <td>0</td>\n",
       "      <td>0</td>\n",
       "    </tr>\n",
       "  </tbody>\n",
       "</table>\n",
       "</div>"
      ],
      "text/plain": [
       "   OBJECTID_1   INCIDENT_ID       OFFENSE_ID  OFFENSE_CODE  \\\n",
       "0         200  2.012513e+09  201251274154010          5401   \n",
       "1         201  2.012516e+09  201251634354410          5441   \n",
       "2         203  2.012141e+09  201214081754010          5401   \n",
       "3         204  2.012253e+09  201225335454410          5441   \n",
       "4         206  2.012119e+09  201211878854410          5441   \n",
       "\n",
       "   OFFENSE_CODE_EXTENSION   OFFENSE_TYPE_ID             OFFENSE_CATEGORY_ID  \\\n",
       "0                       0  TRAF-HIT & RUN    TRAF - ACCIDENT - HIT & RUN      \n",
       "1                       0  TRF-ACCIDENT      TRAF - ACCIDENT                  \n",
       "2                       0  TRAF-HIT & RUN    TRAF - ACCIDENT - HIT & RUN      \n",
       "3                       0  TRF-ACCIDENT      TRAF - ACCIDENT                  \n",
       "4                       0  TRF-ACCIDENT      TRAF - ACCIDENT                  \n",
       "\n",
       "  FIRST_OCCURENCE_DATE LAST_OCCURENCE_DATE               REPORTED_DATE  \\\n",
       "0  2012-11-02 18:20:00                None         2012-11-03 08:52:00   \n",
       "1  2012-11-05 14:16:00                None         2012-11-05 15:12:00   \n",
       "2  2012-04-02 17:00:00                None         2012-04-06 14:37:00   \n",
       "3  2012-06-11 17:05:00                None         2012-06-11 17:43:00   \n",
       "4  2012-03-23 11:01:00                None  2012-03-23 11:10:00.000001   \n",
       "\n",
       "                INCIDENT_ADDRESS      GEO_X      GEO_Y     GEO_LON    GEO_LAT  \\\n",
       "0     1900 BLOCK S SHERIDAN BLVD  3125852.0  1673648.0 -105.052849  39.682112   \n",
       "1  E HAMPDEN AVE / S YOSEMITE ST  3173225.0  1663345.0 -104.884786  39.653067   \n",
       "2       1300 BLOCK N BROADWAY ST  3144304.0  1693793.0 -104.986886  39.737147   \n",
       "3     600 BLOCK E EXPOSITION AVE  3146357.0  1681693.0 -104.979833  39.703898   \n",
       "4       I25 HWYSB / W COLFAX AVE  3136627.0  1694950.0 -105.014162  39.740439   \n",
       "\n",
       "  DISTRICT_ID PRECINCT_ID       NEIGHBORHOOD_ID  BICYCLE_IND  PEDESTRIAN_IND  \n",
       "0           4         421           Harvey Park            0               0  \n",
       "1           3         323         Hampden South            0               0  \n",
       "2           6         623          Capitol Hill            0               0  \n",
       "3           3         311  Washington Park West            0               0  \n",
       "4           1         121          Lincoln Park            0               0  "
      ]
     },
     "execution_count": 5,
     "metadata": {},
     "output_type": "execute_result"
    }
   ],
   "source": [
    "accidents.head()"
   ]
  },
  {
   "cell_type": "markdown",
   "metadata": {},
   "source": [
    "## Data preprocessing and EDA"
   ]
  },
  {
   "cell_type": "code",
   "execution_count": 6,
   "metadata": {},
   "outputs": [],
   "source": [
    "# Drop 'Last_OCCURENCE_DATE' column\n",
    "accidents.drop('LAST_OCCURENCE_DATE', axis=1, inplace=True)"
   ]
  },
  {
   "cell_type": "code",
   "execution_count": 7,
   "metadata": {},
   "outputs": [],
   "source": [
    "# change the data types\n",
    "accidents['INCIDENT_ID']=accidents['INCIDENT_ID'].astype(np.int64)\n",
    "accidents['FIRST_OCCURENCE_DATE']=accidents['FIRST_OCCURENCE_DATE'].astype(np.datetime64)\n",
    "accidents['REPORTED_DATE']=accidents['REPORTED_DATE'].astype(np.datetime64)\n",
    "# cast \"DISTRICT_ID\" to numeric\n",
    "accidents['DISTRICT_ID'].str.strip()\n",
    "accidents['DISTRICT_ID'] = pd.to_numeric(accidents['DISTRICT_ID'], downcast='integer', errors='coerce')\n",
    "# Cast \"PRECINCT_ID\" to numeric\n",
    "accidents['PRECINCT_ID']=pd.to_numeric(accidents['PRECINCT_ID'], errors='coerce', downcast='integer')"
   ]
  },
  {
   "cell_type": "code",
   "execution_count": 8,
   "metadata": {},
   "outputs": [
    {
     "name": "stdout",
     "output_type": "stream",
     "text": [
      "<class 'pandas.core.frame.DataFrame'>\n",
      "RangeIndex: 164227 entries, 0 to 164226\n",
      "Data columns (total 19 columns):\n",
      "OBJECTID_1                164227 non-null int64\n",
      "INCIDENT_ID               164227 non-null int64\n",
      "OFFENSE_ID                164227 non-null int64\n",
      "OFFENSE_CODE              164227 non-null int64\n",
      "OFFENSE_CODE_EXTENSION    164227 non-null int64\n",
      "OFFENSE_TYPE_ID           164227 non-null object\n",
      "OFFENSE_CATEGORY_ID       164227 non-null object\n",
      "FIRST_OCCURENCE_DATE      164227 non-null datetime64[ns]\n",
      "REPORTED_DATE             164227 non-null datetime64[ns]\n",
      "INCIDENT_ADDRESS          164227 non-null object\n",
      "GEO_X                     164227 non-null float64\n",
      "GEO_Y                     164227 non-null float64\n",
      "GEO_LON                   164227 non-null float64\n",
      "GEO_LAT                   164227 non-null float64\n",
      "DISTRICT_ID               164146 non-null float64\n",
      "PRECINCT_ID               164146 non-null float64\n",
      "NEIGHBORHOOD_ID           164227 non-null object\n",
      "BICYCLE_IND               164227 non-null int64\n",
      "PEDESTRIAN_IND            164227 non-null int64\n",
      "dtypes: datetime64[ns](2), float64(6), int64(7), object(4)\n",
      "memory usage: 23.8+ MB\n"
     ]
    }
   ],
   "source": [
    "# Check results\n",
    "accidents.info()"
   ]
  },
  {
   "cell_type": "code",
   "execution_count": 9,
   "metadata": {},
   "outputs": [],
   "source": [
    "# Strip leading and trailing spaces in the 'OFFENSE_TYPE_ID' and 'OFFENSE_CATEGORY_ID'\n",
    "accidents['OFFENSE_TYPE_ID']=accidents['OFFENSE_TYPE_ID'].str.strip()\n",
    "accidents['OFFENSE_CATEGORY_ID'] = accidents['OFFENSE_CATEGORY_ID'].str.strip()"
   ]
  },
  {
   "cell_type": "code",
   "execution_count": 10,
   "metadata": {},
   "outputs": [
    {
     "data": {
      "text/html": [
       "<div>\n",
       "<style scoped>\n",
       "    .dataframe tbody tr th:only-of-type {\n",
       "        vertical-align: middle;\n",
       "    }\n",
       "\n",
       "    .dataframe tbody tr th {\n",
       "        vertical-align: top;\n",
       "    }\n",
       "\n",
       "    .dataframe thead th {\n",
       "        text-align: right;\n",
       "    }\n",
       "</style>\n",
       "<table border=\"1\" class=\"dataframe\">\n",
       "  <thead>\n",
       "    <tr style=\"text-align: right;\">\n",
       "      <th></th>\n",
       "      <th>OBJECTID_1</th>\n",
       "      <th>INCIDENT_ID</th>\n",
       "      <th>OFFENSE_ID</th>\n",
       "      <th>OFFENSE_CODE</th>\n",
       "      <th>OFFENSE_CODE_EXTENSION</th>\n",
       "      <th>OFFENSE_TYPE_ID</th>\n",
       "      <th>OFFENSE_CATEGORY_ID</th>\n",
       "      <th>FIRST_OCCURENCE_DATE</th>\n",
       "      <th>REPORTED_DATE</th>\n",
       "      <th>INCIDENT_ADDRESS</th>\n",
       "      <th>GEO_X</th>\n",
       "      <th>GEO_Y</th>\n",
       "      <th>GEO_LON</th>\n",
       "      <th>GEO_LAT</th>\n",
       "      <th>DISTRICT_ID</th>\n",
       "      <th>PRECINCT_ID</th>\n",
       "      <th>NEIGHBORHOOD_ID</th>\n",
       "      <th>BICYCLE_IND</th>\n",
       "      <th>PEDESTRIAN_IND</th>\n",
       "    </tr>\n",
       "  </thead>\n",
       "  <tbody>\n",
       "    <tr>\n",
       "      <th>0</th>\n",
       "      <td>200</td>\n",
       "      <td>2012512741</td>\n",
       "      <td>201251274154010</td>\n",
       "      <td>5401</td>\n",
       "      <td>0</td>\n",
       "      <td>TRAF-HIT &amp; RUN</td>\n",
       "      <td>TRAF - ACCIDENT - HIT &amp; RUN</td>\n",
       "      <td>2012-11-02 18:20:00</td>\n",
       "      <td>2012-11-03 08:52:00.000000</td>\n",
       "      <td>1900 BLOCK S SHERIDAN BLVD</td>\n",
       "      <td>3125852.0</td>\n",
       "      <td>1673648.0</td>\n",
       "      <td>-105.052849</td>\n",
       "      <td>39.682112</td>\n",
       "      <td>4.0</td>\n",
       "      <td>421.0</td>\n",
       "      <td>Harvey Park</td>\n",
       "      <td>0</td>\n",
       "      <td>0</td>\n",
       "    </tr>\n",
       "    <tr>\n",
       "      <th>1</th>\n",
       "      <td>201</td>\n",
       "      <td>2012516343</td>\n",
       "      <td>201251634354410</td>\n",
       "      <td>5441</td>\n",
       "      <td>0</td>\n",
       "      <td>TRF-ACCIDENT</td>\n",
       "      <td>TRAF - ACCIDENT</td>\n",
       "      <td>2012-11-05 14:16:00</td>\n",
       "      <td>2012-11-05 15:12:00.000000</td>\n",
       "      <td>E HAMPDEN AVE / S YOSEMITE ST</td>\n",
       "      <td>3173225.0</td>\n",
       "      <td>1663345.0</td>\n",
       "      <td>-104.884786</td>\n",
       "      <td>39.653067</td>\n",
       "      <td>3.0</td>\n",
       "      <td>323.0</td>\n",
       "      <td>Hampden South</td>\n",
       "      <td>0</td>\n",
       "      <td>0</td>\n",
       "    </tr>\n",
       "    <tr>\n",
       "      <th>2</th>\n",
       "      <td>203</td>\n",
       "      <td>2012140817</td>\n",
       "      <td>201214081754010</td>\n",
       "      <td>5401</td>\n",
       "      <td>0</td>\n",
       "      <td>TRAF-HIT &amp; RUN</td>\n",
       "      <td>TRAF - ACCIDENT - HIT &amp; RUN</td>\n",
       "      <td>2012-04-02 17:00:00</td>\n",
       "      <td>2012-04-06 14:37:00.000000</td>\n",
       "      <td>1300 BLOCK N BROADWAY ST</td>\n",
       "      <td>3144304.0</td>\n",
       "      <td>1693793.0</td>\n",
       "      <td>-104.986886</td>\n",
       "      <td>39.737147</td>\n",
       "      <td>6.0</td>\n",
       "      <td>623.0</td>\n",
       "      <td>Capitol Hill</td>\n",
       "      <td>0</td>\n",
       "      <td>0</td>\n",
       "    </tr>\n",
       "    <tr>\n",
       "      <th>3</th>\n",
       "      <td>204</td>\n",
       "      <td>2012253354</td>\n",
       "      <td>201225335454410</td>\n",
       "      <td>5441</td>\n",
       "      <td>0</td>\n",
       "      <td>TRF-ACCIDENT</td>\n",
       "      <td>TRAF - ACCIDENT</td>\n",
       "      <td>2012-06-11 17:05:00</td>\n",
       "      <td>2012-06-11 17:43:00.000000</td>\n",
       "      <td>600 BLOCK E EXPOSITION AVE</td>\n",
       "      <td>3146357.0</td>\n",
       "      <td>1681693.0</td>\n",
       "      <td>-104.979833</td>\n",
       "      <td>39.703898</td>\n",
       "      <td>3.0</td>\n",
       "      <td>311.0</td>\n",
       "      <td>Washington Park West</td>\n",
       "      <td>0</td>\n",
       "      <td>0</td>\n",
       "    </tr>\n",
       "    <tr>\n",
       "      <th>4</th>\n",
       "      <td>206</td>\n",
       "      <td>2012118788</td>\n",
       "      <td>201211878854410</td>\n",
       "      <td>5441</td>\n",
       "      <td>0</td>\n",
       "      <td>TRF-ACCIDENT</td>\n",
       "      <td>TRAF - ACCIDENT</td>\n",
       "      <td>2012-03-23 11:01:00</td>\n",
       "      <td>2012-03-23 11:10:00.000001</td>\n",
       "      <td>I25 HWYSB / W COLFAX AVE</td>\n",
       "      <td>3136627.0</td>\n",
       "      <td>1694950.0</td>\n",
       "      <td>-105.014162</td>\n",
       "      <td>39.740439</td>\n",
       "      <td>1.0</td>\n",
       "      <td>121.0</td>\n",
       "      <td>Lincoln Park</td>\n",
       "      <td>0</td>\n",
       "      <td>0</td>\n",
       "    </tr>\n",
       "  </tbody>\n",
       "</table>\n",
       "</div>"
      ],
      "text/plain": [
       "   OBJECTID_1  INCIDENT_ID       OFFENSE_ID  OFFENSE_CODE  \\\n",
       "0         200   2012512741  201251274154010          5401   \n",
       "1         201   2012516343  201251634354410          5441   \n",
       "2         203   2012140817  201214081754010          5401   \n",
       "3         204   2012253354  201225335454410          5441   \n",
       "4         206   2012118788  201211878854410          5441   \n",
       "\n",
       "   OFFENSE_CODE_EXTENSION OFFENSE_TYPE_ID          OFFENSE_CATEGORY_ID  \\\n",
       "0                       0  TRAF-HIT & RUN  TRAF - ACCIDENT - HIT & RUN   \n",
       "1                       0    TRF-ACCIDENT              TRAF - ACCIDENT   \n",
       "2                       0  TRAF-HIT & RUN  TRAF - ACCIDENT - HIT & RUN   \n",
       "3                       0    TRF-ACCIDENT              TRAF - ACCIDENT   \n",
       "4                       0    TRF-ACCIDENT              TRAF - ACCIDENT   \n",
       "\n",
       "  FIRST_OCCURENCE_DATE              REPORTED_DATE  \\\n",
       "0  2012-11-02 18:20:00 2012-11-03 08:52:00.000000   \n",
       "1  2012-11-05 14:16:00 2012-11-05 15:12:00.000000   \n",
       "2  2012-04-02 17:00:00 2012-04-06 14:37:00.000000   \n",
       "3  2012-06-11 17:05:00 2012-06-11 17:43:00.000000   \n",
       "4  2012-03-23 11:01:00 2012-03-23 11:10:00.000001   \n",
       "\n",
       "                INCIDENT_ADDRESS      GEO_X      GEO_Y     GEO_LON    GEO_LAT  \\\n",
       "0     1900 BLOCK S SHERIDAN BLVD  3125852.0  1673648.0 -105.052849  39.682112   \n",
       "1  E HAMPDEN AVE / S YOSEMITE ST  3173225.0  1663345.0 -104.884786  39.653067   \n",
       "2       1300 BLOCK N BROADWAY ST  3144304.0  1693793.0 -104.986886  39.737147   \n",
       "3     600 BLOCK E EXPOSITION AVE  3146357.0  1681693.0 -104.979833  39.703898   \n",
       "4       I25 HWYSB / W COLFAX AVE  3136627.0  1694950.0 -105.014162  39.740439   \n",
       "\n",
       "   DISTRICT_ID  PRECINCT_ID       NEIGHBORHOOD_ID  BICYCLE_IND  PEDESTRIAN_IND  \n",
       "0          4.0        421.0           Harvey Park            0               0  \n",
       "1          3.0        323.0         Hampden South            0               0  \n",
       "2          6.0        623.0          Capitol Hill            0               0  \n",
       "3          3.0        311.0  Washington Park West            0               0  \n",
       "4          1.0        121.0          Lincoln Park            0               0  "
      ]
     },
     "execution_count": 10,
     "metadata": {},
     "output_type": "execute_result"
    }
   ],
   "source": [
    "# Check results\n",
    "accidents.head()"
   ]
  },
  {
   "cell_type": "code",
   "execution_count": 10,
   "metadata": {},
   "outputs": [
    {
     "data": {
      "text/html": [
       "<div>\n",
       "<style scoped>\n",
       "    .dataframe tbody tr th:only-of-type {\n",
       "        vertical-align: middle;\n",
       "    }\n",
       "\n",
       "    .dataframe tbody tr th {\n",
       "        vertical-align: top;\n",
       "    }\n",
       "\n",
       "    .dataframe thead th {\n",
       "        text-align: right;\n",
       "    }\n",
       "</style>\n",
       "<table border=\"1\" class=\"dataframe\">\n",
       "  <thead>\n",
       "    <tr style=\"text-align: right;\">\n",
       "      <th></th>\n",
       "      <th>OBJECTID_1</th>\n",
       "      <th>INCIDENT_ID</th>\n",
       "      <th>OFFENSE_ID</th>\n",
       "      <th>OFFENSE_CODE</th>\n",
       "      <th>OFFENSE_CODE_EXTENSION</th>\n",
       "      <th>OFFENSE_TYPE_ID</th>\n",
       "      <th>OFFENSE_CATEGORY_ID</th>\n",
       "      <th>FIRST_OCCURENCE_DATE</th>\n",
       "      <th>REPORTED_DATE</th>\n",
       "      <th>INCIDENT_ADDRESS</th>\n",
       "      <th>GEO_X</th>\n",
       "      <th>GEO_Y</th>\n",
       "      <th>GEO_LON</th>\n",
       "      <th>GEO_LAT</th>\n",
       "      <th>DISTRICT_ID</th>\n",
       "      <th>PRECINCT_ID</th>\n",
       "      <th>NEIGHBORHOOD_ID</th>\n",
       "      <th>BICYCLE_IND</th>\n",
       "      <th>PEDESTRIAN_IND</th>\n",
       "    </tr>\n",
       "  </thead>\n",
       "  <tbody>\n",
       "    <tr>\n",
       "      <th>164222</th>\n",
       "      <td>166997</td>\n",
       "      <td>20198445</td>\n",
       "      <td>2019844554410</td>\n",
       "      <td>5441</td>\n",
       "      <td>0</td>\n",
       "      <td>TRF-ACCIDENT</td>\n",
       "      <td>TRAF - ACCIDENT</td>\n",
       "      <td>2019-01-04 17:27:00.000000</td>\n",
       "      <td>2019-01-04 18:19:00</td>\n",
       "      <td>W 14TH AVE / N RALEIGH ST</td>\n",
       "      <td>3128897.0</td>\n",
       "      <td>1694196.0</td>\n",
       "      <td>-105.041662</td>\n",
       "      <td>39.738479</td>\n",
       "      <td>1.0</td>\n",
       "      <td>122.0</td>\n",
       "      <td>West Colfax</td>\n",
       "      <td>0</td>\n",
       "      <td>0</td>\n",
       "    </tr>\n",
       "    <tr>\n",
       "      <th>164223</th>\n",
       "      <td>166999</td>\n",
       "      <td>20198720</td>\n",
       "      <td>2019872054410</td>\n",
       "      <td>5441</td>\n",
       "      <td>0</td>\n",
       "      <td>TRF-ACCIDENT</td>\n",
       "      <td>TRAF - ACCIDENT</td>\n",
       "      <td>2019-01-04 19:09:00.000001</td>\n",
       "      <td>2019-01-04 19:51:00</td>\n",
       "      <td>I25 HWYNB / W 23RD AVE</td>\n",
       "      <td>3135940.0</td>\n",
       "      <td>1698910.0</td>\n",
       "      <td>-105.016530</td>\n",
       "      <td>39.751320</td>\n",
       "      <td>1.0</td>\n",
       "      <td>123.0</td>\n",
       "      <td>Jefferson Park</td>\n",
       "      <td>0</td>\n",
       "      <td>0</td>\n",
       "    </tr>\n",
       "    <tr>\n",
       "      <th>164224</th>\n",
       "      <td>167000</td>\n",
       "      <td>2018871461</td>\n",
       "      <td>201887146154010</td>\n",
       "      <td>5401</td>\n",
       "      <td>0</td>\n",
       "      <td>TRAF-HIT &amp; RUN</td>\n",
       "      <td>TRAF - ACCIDENT - HIT &amp; RUN</td>\n",
       "      <td>2018-12-24 08:00:00.000000</td>\n",
       "      <td>2018-12-28 13:04:00</td>\n",
       "      <td>3500 BLOCK S TAMARAC DR</td>\n",
       "      <td>3169313.0</td>\n",
       "      <td>1663007.0</td>\n",
       "      <td>-104.898687</td>\n",
       "      <td>39.652212</td>\n",
       "      <td>3.0</td>\n",
       "      <td>324.0</td>\n",
       "      <td>Hampden South</td>\n",
       "      <td>0</td>\n",
       "      <td>0</td>\n",
       "    </tr>\n",
       "    <tr>\n",
       "      <th>164225</th>\n",
       "      <td>167002</td>\n",
       "      <td>20198000502</td>\n",
       "      <td>2019800050254410</td>\n",
       "      <td>5441</td>\n",
       "      <td>0</td>\n",
       "      <td>TRF-ACCIDENT</td>\n",
       "      <td>TRAF - ACCIDENT</td>\n",
       "      <td>2019-01-04 06:05:00.000000</td>\n",
       "      <td>2019-01-04 06:06:00</td>\n",
       "      <td>6400 BLOCK PENA BLVD INBOUND</td>\n",
       "      <td>3200490.0</td>\n",
       "      <td>1724090.0</td>\n",
       "      <td>-104.786262</td>\n",
       "      <td>39.819274</td>\n",
       "      <td>5.0</td>\n",
       "      <td>522.0</td>\n",
       "      <td>DIA</td>\n",
       "      <td>0</td>\n",
       "      <td>0</td>\n",
       "    </tr>\n",
       "    <tr>\n",
       "      <th>164226</th>\n",
       "      <td>167003</td>\n",
       "      <td>20198000600</td>\n",
       "      <td>2019800060054410</td>\n",
       "      <td>5441</td>\n",
       "      <td>0</td>\n",
       "      <td>TRF-ACCIDENT</td>\n",
       "      <td>TRAF - ACCIDENT</td>\n",
       "      <td>2019-01-04 16:35:00.000000</td>\n",
       "      <td>2019-01-04 17:47:00</td>\n",
       "      <td>6975 N VALLEY HEAD ST</td>\n",
       "      <td>3234312.0</td>\n",
       "      <td>1724993.0</td>\n",
       "      <td>-104.665833</td>\n",
       "      <td>39.820962</td>\n",
       "      <td>7.0</td>\n",
       "      <td>759.0</td>\n",
       "      <td>DIA</td>\n",
       "      <td>0</td>\n",
       "      <td>0</td>\n",
       "    </tr>\n",
       "  </tbody>\n",
       "</table>\n",
       "</div>"
      ],
      "text/plain": [
       "        OBJECTID_1  INCIDENT_ID        OFFENSE_ID  OFFENSE_CODE  \\\n",
       "164222      166997     20198445     2019844554410          5441   \n",
       "164223      166999     20198720     2019872054410          5441   \n",
       "164224      167000   2018871461   201887146154010          5401   \n",
       "164225      167002  20198000502  2019800050254410          5441   \n",
       "164226      167003  20198000600  2019800060054410          5441   \n",
       "\n",
       "        OFFENSE_CODE_EXTENSION OFFENSE_TYPE_ID          OFFENSE_CATEGORY_ID  \\\n",
       "164222                       0    TRF-ACCIDENT              TRAF - ACCIDENT   \n",
       "164223                       0    TRF-ACCIDENT              TRAF - ACCIDENT   \n",
       "164224                       0  TRAF-HIT & RUN  TRAF - ACCIDENT - HIT & RUN   \n",
       "164225                       0    TRF-ACCIDENT              TRAF - ACCIDENT   \n",
       "164226                       0    TRF-ACCIDENT              TRAF - ACCIDENT   \n",
       "\n",
       "             FIRST_OCCURENCE_DATE       REPORTED_DATE  \\\n",
       "164222 2019-01-04 17:27:00.000000 2019-01-04 18:19:00   \n",
       "164223 2019-01-04 19:09:00.000001 2019-01-04 19:51:00   \n",
       "164224 2018-12-24 08:00:00.000000 2018-12-28 13:04:00   \n",
       "164225 2019-01-04 06:05:00.000000 2019-01-04 06:06:00   \n",
       "164226 2019-01-04 16:35:00.000000 2019-01-04 17:47:00   \n",
       "\n",
       "                    INCIDENT_ADDRESS      GEO_X      GEO_Y     GEO_LON  \\\n",
       "164222     W 14TH AVE / N RALEIGH ST  3128897.0  1694196.0 -105.041662   \n",
       "164223        I25 HWYNB / W 23RD AVE  3135940.0  1698910.0 -105.016530   \n",
       "164224       3500 BLOCK S TAMARAC DR  3169313.0  1663007.0 -104.898687   \n",
       "164225  6400 BLOCK PENA BLVD INBOUND  3200490.0  1724090.0 -104.786262   \n",
       "164226         6975 N VALLEY HEAD ST  3234312.0  1724993.0 -104.665833   \n",
       "\n",
       "          GEO_LAT  DISTRICT_ID  PRECINCT_ID NEIGHBORHOOD_ID  BICYCLE_IND  \\\n",
       "164222  39.738479          1.0        122.0     West Colfax            0   \n",
       "164223  39.751320          1.0        123.0  Jefferson Park            0   \n",
       "164224  39.652212          3.0        324.0   Hampden South            0   \n",
       "164225  39.819274          5.0        522.0             DIA            0   \n",
       "164226  39.820962          7.0        759.0             DIA            0   \n",
       "\n",
       "        PEDESTRIAN_IND  \n",
       "164222               0  \n",
       "164223               0  \n",
       "164224               0  \n",
       "164225               0  \n",
       "164226               0  "
      ]
     },
     "execution_count": 10,
     "metadata": {},
     "output_type": "execute_result"
    }
   ],
   "source": [
    "accidents.tail()"
   ]
  },
  {
   "cell_type": "code",
   "execution_count": 11,
   "metadata": {},
   "outputs": [
    {
     "data": {
      "text/html": [
       "<div>\n",
       "<style scoped>\n",
       "    .dataframe tbody tr th:only-of-type {\n",
       "        vertical-align: middle;\n",
       "    }\n",
       "\n",
       "    .dataframe tbody tr th {\n",
       "        vertical-align: top;\n",
       "    }\n",
       "\n",
       "    .dataframe thead th {\n",
       "        text-align: right;\n",
       "    }\n",
       "</style>\n",
       "<table border=\"1\" class=\"dataframe\">\n",
       "  <thead>\n",
       "    <tr style=\"text-align: right;\">\n",
       "      <th></th>\n",
       "      <th>OBJECTID_1</th>\n",
       "      <th>INCIDENT_ID</th>\n",
       "      <th>OFFENSE_ID</th>\n",
       "      <th>OFFENSE_CODE</th>\n",
       "      <th>OFFENSE_CODE_EXTENSION</th>\n",
       "      <th>GEO_X</th>\n",
       "      <th>GEO_Y</th>\n",
       "      <th>GEO_LON</th>\n",
       "      <th>GEO_LAT</th>\n",
       "      <th>DISTRICT_ID</th>\n",
       "      <th>PRECINCT_ID</th>\n",
       "      <th>BICYCLE_IND</th>\n",
       "      <th>PEDESTRIAN_IND</th>\n",
       "    </tr>\n",
       "  </thead>\n",
       "  <tbody>\n",
       "    <tr>\n",
       "      <th>count</th>\n",
       "      <td>164227.000000</td>\n",
       "      <td>1.642270e+05</td>\n",
       "      <td>1.642270e+05</td>\n",
       "      <td>164227.000000</td>\n",
       "      <td>164227.000000</td>\n",
       "      <td>1.642270e+05</td>\n",
       "      <td>1.642270e+05</td>\n",
       "      <td>164227.000000</td>\n",
       "      <td>164227.000000</td>\n",
       "      <td>164146.000000</td>\n",
       "      <td>164146.000000</td>\n",
       "      <td>164227.000000</td>\n",
       "      <td>164227.000000</td>\n",
       "    </tr>\n",
       "    <tr>\n",
       "      <th>mean</th>\n",
       "      <td>82702.723827</td>\n",
       "      <td>2.126405e+09</td>\n",
       "      <td>2.126405e+14</td>\n",
       "      <td>5429.688571</td>\n",
       "      <td>0.047148</td>\n",
       "      <td>3.177787e+06</td>\n",
       "      <td>1.697776e+06</td>\n",
       "      <td>-104.887602</td>\n",
       "      <td>39.702843</td>\n",
       "      <td>3.274944</td>\n",
       "      <td>344.346643</td>\n",
       "      <td>0.014437</td>\n",
       "      <td>0.024436</td>\n",
       "    </tr>\n",
       "    <tr>\n",
       "      <th>std</th>\n",
       "      <td>48285.120829</td>\n",
       "      <td>1.166430e+10</td>\n",
       "      <td>1.166430e+15</td>\n",
       "      <td>17.668152</td>\n",
       "      <td>0.328240</td>\n",
       "      <td>9.881783e+05</td>\n",
       "      <td>2.428750e+05</td>\n",
       "      <td>2.765244</td>\n",
       "      <td>1.046557</td>\n",
       "      <td>1.675733</td>\n",
       "      <td>168.375022</td>\n",
       "      <td>0.121159</td>\n",
       "      <td>0.164961</td>\n",
       "    </tr>\n",
       "    <tr>\n",
       "      <th>min</th>\n",
       "      <td>1.000000</td>\n",
       "      <td>2.013300e+04</td>\n",
       "      <td>2.013354e+09</td>\n",
       "      <td>5401.000000</td>\n",
       "      <td>0.000000</td>\n",
       "      <td>3.082712e+06</td>\n",
       "      <td>1.471750e+06</td>\n",
       "      <td>-105.206197</td>\n",
       "      <td>0.000001</td>\n",
       "      <td>1.000000</td>\n",
       "      <td>111.000000</td>\n",
       "      <td>0.000000</td>\n",
       "      <td>0.000000</td>\n",
       "    </tr>\n",
       "    <tr>\n",
       "      <th>25%</th>\n",
       "      <td>41057.500000</td>\n",
       "      <td>2.013107e+09</td>\n",
       "      <td>2.013107e+14</td>\n",
       "      <td>5401.000000</td>\n",
       "      <td>0.000000</td>\n",
       "      <td>3.139346e+06</td>\n",
       "      <td>1.681514e+06</td>\n",
       "      <td>-105.004474</td>\n",
       "      <td>39.703096</td>\n",
       "      <td>2.000000</td>\n",
       "      <td>213.000000</td>\n",
       "      <td>0.000000</td>\n",
       "      <td>0.000000</td>\n",
       "    </tr>\n",
       "    <tr>\n",
       "      <th>50%</th>\n",
       "      <td>82114.000000</td>\n",
       "      <td>2.015266e+09</td>\n",
       "      <td>2.015266e+14</td>\n",
       "      <td>5441.000000</td>\n",
       "      <td>0.000000</td>\n",
       "      <td>3.146892e+06</td>\n",
       "      <td>1.693673e+06</td>\n",
       "      <td>-104.977746</td>\n",
       "      <td>39.736762</td>\n",
       "      <td>3.000000</td>\n",
       "      <td>313.000000</td>\n",
       "      <td>0.000000</td>\n",
       "      <td>0.000000</td>\n",
       "    </tr>\n",
       "    <tr>\n",
       "      <th>75%</th>\n",
       "      <td>123170.500000</td>\n",
       "      <td>2.017286e+09</td>\n",
       "      <td>2.017286e+14</td>\n",
       "      <td>5441.000000</td>\n",
       "      <td>0.000000</td>\n",
       "      <td>3.162548e+06</td>\n",
       "      <td>1.702434e+06</td>\n",
       "      <td>-104.922277</td>\n",
       "      <td>39.760747</td>\n",
       "      <td>5.000000</td>\n",
       "      <td>511.000000</td>\n",
       "      <td>0.000000</td>\n",
       "      <td>0.000000</td>\n",
       "    </tr>\n",
       "    <tr>\n",
       "      <th>max</th>\n",
       "      <td>169547.000000</td>\n",
       "      <td>2.018792e+12</td>\n",
       "      <td>2.018792e+17</td>\n",
       "      <td>5441.000000</td>\n",
       "      <td>3.000000</td>\n",
       "      <td>4.067476e+07</td>\n",
       "      <td>1.141836e+07</td>\n",
       "      <td>-0.000001</td>\n",
       "      <td>39.904311</td>\n",
       "      <td>7.000000</td>\n",
       "      <td>759.000000</td>\n",
       "      <td>4.000000</td>\n",
       "      <td>4.000000</td>\n",
       "    </tr>\n",
       "  </tbody>\n",
       "</table>\n",
       "</div>"
      ],
      "text/plain": [
       "          OBJECTID_1   INCIDENT_ID    OFFENSE_ID   OFFENSE_CODE  \\\n",
       "count  164227.000000  1.642270e+05  1.642270e+05  164227.000000   \n",
       "mean    82702.723827  2.126405e+09  2.126405e+14    5429.688571   \n",
       "std     48285.120829  1.166430e+10  1.166430e+15      17.668152   \n",
       "min         1.000000  2.013300e+04  2.013354e+09    5401.000000   \n",
       "25%     41057.500000  2.013107e+09  2.013107e+14    5401.000000   \n",
       "50%     82114.000000  2.015266e+09  2.015266e+14    5441.000000   \n",
       "75%    123170.500000  2.017286e+09  2.017286e+14    5441.000000   \n",
       "max    169547.000000  2.018792e+12  2.018792e+17    5441.000000   \n",
       "\n",
       "       OFFENSE_CODE_EXTENSION         GEO_X         GEO_Y        GEO_LON  \\\n",
       "count           164227.000000  1.642270e+05  1.642270e+05  164227.000000   \n",
       "mean                 0.047148  3.177787e+06  1.697776e+06    -104.887602   \n",
       "std                  0.328240  9.881783e+05  2.428750e+05       2.765244   \n",
       "min                  0.000000  3.082712e+06  1.471750e+06    -105.206197   \n",
       "25%                  0.000000  3.139346e+06  1.681514e+06    -105.004474   \n",
       "50%                  0.000000  3.146892e+06  1.693673e+06    -104.977746   \n",
       "75%                  0.000000  3.162548e+06  1.702434e+06    -104.922277   \n",
       "max                  3.000000  4.067476e+07  1.141836e+07      -0.000001   \n",
       "\n",
       "             GEO_LAT    DISTRICT_ID    PRECINCT_ID    BICYCLE_IND  \\\n",
       "count  164227.000000  164146.000000  164146.000000  164227.000000   \n",
       "mean       39.702843       3.274944     344.346643       0.014437   \n",
       "std         1.046557       1.675733     168.375022       0.121159   \n",
       "min         0.000001       1.000000     111.000000       0.000000   \n",
       "25%        39.703096       2.000000     213.000000       0.000000   \n",
       "50%        39.736762       3.000000     313.000000       0.000000   \n",
       "75%        39.760747       5.000000     511.000000       0.000000   \n",
       "max        39.904311       7.000000     759.000000       4.000000   \n",
       "\n",
       "       PEDESTRIAN_IND  \n",
       "count   164227.000000  \n",
       "mean         0.024436  \n",
       "std          0.164961  \n",
       "min          0.000000  \n",
       "25%          0.000000  \n",
       "50%          0.000000  \n",
       "75%          0.000000  \n",
       "max          4.000000  "
      ]
     },
     "execution_count": 11,
     "metadata": {},
     "output_type": "execute_result"
    }
   ],
   "source": [
    "# Descriptive statistics\n",
    "accidents.describe()"
   ]
  },
  {
   "cell_type": "code",
   "execution_count": 12,
   "metadata": {},
   "outputs": [
    {
     "data": {
      "text/plain": [
       "0"
      ]
     },
     "execution_count": 12,
     "metadata": {},
     "output_type": "execute_result"
    }
   ],
   "source": [
    "# Check for the duplicate records\n",
    "accidents.duplicated().sum()"
   ]
  },
  {
   "cell_type": "code",
   "execution_count": 13,
   "metadata": {},
   "outputs": [],
   "source": [
    "# Output individual car accident data to a file for future use\n",
    "accidents.to_csv('accidents_all.csv', date_format='%Y-%m-%d %H:%M:%S')"
   ]
  },
  {
   "cell_type": "code",
   "execution_count": 13,
   "metadata": {},
   "outputs": [],
   "source": [
    "# Make a copy of the data frame for analyzing daily accident data beginning January 1, 2014\n",
    "accidents_daily= accidents.loc[accidents['FIRST_OCCURENCE_DATE']> '2013-12-31 23:59:59']"
   ]
  },
  {
   "cell_type": "code",
   "execution_count": 14,
   "metadata": {},
   "outputs": [
    {
     "name": "stderr",
     "output_type": "stream",
     "text": [
      "C:\\Users\\RodneyWeakly\\Anaconda3\\lib\\site-packages\\ipykernel_launcher.py:2: SettingWithCopyWarning: \n",
      "A value is trying to be set on a copy of a slice from a DataFrame.\n",
      "Try using .loc[row_indexer,col_indexer] = value instead\n",
      "\n",
      "See the caveats in the documentation: http://pandas.pydata.org/pandas-docs/stable/indexing.html#indexing-view-versus-copy\n",
      "  \n"
     ]
    },
    {
     "data": {
      "text/html": [
       "<div>\n",
       "<style scoped>\n",
       "    .dataframe tbody tr th:only-of-type {\n",
       "        vertical-align: middle;\n",
       "    }\n",
       "\n",
       "    .dataframe tbody tr th {\n",
       "        vertical-align: top;\n",
       "    }\n",
       "\n",
       "    .dataframe thead th {\n",
       "        text-align: right;\n",
       "    }\n",
       "</style>\n",
       "<table border=\"1\" class=\"dataframe\">\n",
       "  <thead>\n",
       "    <tr style=\"text-align: right;\">\n",
       "      <th></th>\n",
       "      <th>OBJECTID_1</th>\n",
       "      <th>INCIDENT_ID</th>\n",
       "      <th>OFFENSE_ID</th>\n",
       "      <th>OFFENSE_CODE</th>\n",
       "      <th>OFFENSE_CODE_EXTENSION</th>\n",
       "      <th>OFFENSE_TYPE_ID</th>\n",
       "      <th>OFFENSE_CATEGORY_ID</th>\n",
       "      <th>FIRST_OCCURENCE_DATE</th>\n",
       "      <th>REPORTED_DATE</th>\n",
       "      <th>INCIDENT_ADDRESS</th>\n",
       "      <th>GEO_X</th>\n",
       "      <th>GEO_Y</th>\n",
       "      <th>GEO_LON</th>\n",
       "      <th>GEO_LAT</th>\n",
       "      <th>DISTRICT_ID</th>\n",
       "      <th>PRECINCT_ID</th>\n",
       "      <th>NEIGHBORHOOD_ID</th>\n",
       "      <th>BICYCLE_IND</th>\n",
       "      <th>PEDESTRIAN_IND</th>\n",
       "      <th>AccidentDate</th>\n",
       "    </tr>\n",
       "  </thead>\n",
       "  <tbody>\n",
       "    <tr>\n",
       "      <th>40144</th>\n",
       "      <td>41743</td>\n",
       "      <td>2014118</td>\n",
       "      <td>201411854010</td>\n",
       "      <td>5401</td>\n",
       "      <td>0</td>\n",
       "      <td>TRAF-HIT &amp; RUN</td>\n",
       "      <td>TRAF - ACCIDENT - HIT &amp; RUN</td>\n",
       "      <td>2014-01-01 00:40:00.000001</td>\n",
       "      <td>2014-01-01 01:05:00</td>\n",
       "      <td>1520 STOUT ST</td>\n",
       "      <td>3142399.0</td>\n",
       "      <td>1696650.0</td>\n",
       "      <td>-104.993603</td>\n",
       "      <td>39.745019</td>\n",
       "      <td>6.0</td>\n",
       "      <td>611.0</td>\n",
       "      <td>CBD</td>\n",
       "      <td>0</td>\n",
       "      <td>0</td>\n",
       "      <td>2014-01-01</td>\n",
       "    </tr>\n",
       "    <tr>\n",
       "      <th>40145</th>\n",
       "      <td>41745</td>\n",
       "      <td>2014235</td>\n",
       "      <td>201423554410</td>\n",
       "      <td>5441</td>\n",
       "      <td>0</td>\n",
       "      <td>TRF-ACCIDENT</td>\n",
       "      <td>TRAF - ACCIDENT</td>\n",
       "      <td>2014-01-01 01:35:00.000000</td>\n",
       "      <td>2014-01-01 01:35:00</td>\n",
       "      <td>E COLFAX AVE / N HUMBOLDT ST</td>\n",
       "      <td>3149134.0</td>\n",
       "      <td>1694869.0</td>\n",
       "      <td>-104.969690</td>\n",
       "      <td>39.740025</td>\n",
       "      <td>6.0</td>\n",
       "      <td>622.0</td>\n",
       "      <td>Cheesman Park</td>\n",
       "      <td>0</td>\n",
       "      <td>0</td>\n",
       "      <td>2014-01-01</td>\n",
       "    </tr>\n",
       "    <tr>\n",
       "      <th>40146</th>\n",
       "      <td>41746</td>\n",
       "      <td>2014304</td>\n",
       "      <td>201430454410</td>\n",
       "      <td>5441</td>\n",
       "      <td>0</td>\n",
       "      <td>TRF-ACCIDENT</td>\n",
       "      <td>TRAF - ACCIDENT</td>\n",
       "      <td>2014-01-01 02:04:00.000000</td>\n",
       "      <td>2014-01-01 04:00:00</td>\n",
       "      <td>W COLFAX AVE / 15TH ST</td>\n",
       "      <td>3143834.0</td>\n",
       "      <td>1695035.0</td>\n",
       "      <td>-104.988533</td>\n",
       "      <td>39.740564</td>\n",
       "      <td>6.0</td>\n",
       "      <td>611.0</td>\n",
       "      <td>Civic Center</td>\n",
       "      <td>0</td>\n",
       "      <td>0</td>\n",
       "      <td>2014-01-01</td>\n",
       "    </tr>\n",
       "    <tr>\n",
       "      <th>40147</th>\n",
       "      <td>41748</td>\n",
       "      <td>2014479</td>\n",
       "      <td>201447954010</td>\n",
       "      <td>5401</td>\n",
       "      <td>0</td>\n",
       "      <td>TRAF-HIT &amp; RUN</td>\n",
       "      <td>TRAF - ACCIDENT - HIT &amp; RUN</td>\n",
       "      <td>2014-01-01 03:30:00.000000</td>\n",
       "      <td>2014-01-01 04:24:00</td>\n",
       "      <td>W 29TH AVE / N LOWELL BLVD</td>\n",
       "      <td>3130841.0</td>\n",
       "      <td>1701506.0</td>\n",
       "      <td>-105.034616</td>\n",
       "      <td>39.758519</td>\n",
       "      <td>1.0</td>\n",
       "      <td>113.0</td>\n",
       "      <td>West Highland</td>\n",
       "      <td>0</td>\n",
       "      <td>0</td>\n",
       "      <td>2014-01-01</td>\n",
       "    </tr>\n",
       "    <tr>\n",
       "      <th>40148</th>\n",
       "      <td>41749</td>\n",
       "      <td>2014519</td>\n",
       "      <td>201451954410</td>\n",
       "      <td>5441</td>\n",
       "      <td>0</td>\n",
       "      <td>TRF-ACCIDENT</td>\n",
       "      <td>TRAF - ACCIDENT</td>\n",
       "      <td>2014-01-01 03:50:00.000000</td>\n",
       "      <td>2014-01-01 03:58:00</td>\n",
       "      <td>E 53RD AVE / N CHAMBERS RD</td>\n",
       "      <td>3193971.0</td>\n",
       "      <td>1713504.0</td>\n",
       "      <td>-104.809755</td>\n",
       "      <td>39.790353</td>\n",
       "      <td>5.0</td>\n",
       "      <td>512.0</td>\n",
       "      <td>Montbello</td>\n",
       "      <td>0</td>\n",
       "      <td>0</td>\n",
       "      <td>2014-01-01</td>\n",
       "    </tr>\n",
       "  </tbody>\n",
       "</table>\n",
       "</div>"
      ],
      "text/plain": [
       "       OBJECTID_1  INCIDENT_ID    OFFENSE_ID  OFFENSE_CODE  \\\n",
       "40144       41743      2014118  201411854010          5401   \n",
       "40145       41745      2014235  201423554410          5441   \n",
       "40146       41746      2014304  201430454410          5441   \n",
       "40147       41748      2014479  201447954010          5401   \n",
       "40148       41749      2014519  201451954410          5441   \n",
       "\n",
       "       OFFENSE_CODE_EXTENSION OFFENSE_TYPE_ID          OFFENSE_CATEGORY_ID  \\\n",
       "40144                       0  TRAF-HIT & RUN  TRAF - ACCIDENT - HIT & RUN   \n",
       "40145                       0    TRF-ACCIDENT              TRAF - ACCIDENT   \n",
       "40146                       0    TRF-ACCIDENT              TRAF - ACCIDENT   \n",
       "40147                       0  TRAF-HIT & RUN  TRAF - ACCIDENT - HIT & RUN   \n",
       "40148                       0    TRF-ACCIDENT              TRAF - ACCIDENT   \n",
       "\n",
       "            FIRST_OCCURENCE_DATE       REPORTED_DATE  \\\n",
       "40144 2014-01-01 00:40:00.000001 2014-01-01 01:05:00   \n",
       "40145 2014-01-01 01:35:00.000000 2014-01-01 01:35:00   \n",
       "40146 2014-01-01 02:04:00.000000 2014-01-01 04:00:00   \n",
       "40147 2014-01-01 03:30:00.000000 2014-01-01 04:24:00   \n",
       "40148 2014-01-01 03:50:00.000000 2014-01-01 03:58:00   \n",
       "\n",
       "                   INCIDENT_ADDRESS      GEO_X      GEO_Y     GEO_LON  \\\n",
       "40144                 1520 STOUT ST  3142399.0  1696650.0 -104.993603   \n",
       "40145  E COLFAX AVE / N HUMBOLDT ST  3149134.0  1694869.0 -104.969690   \n",
       "40146        W COLFAX AVE / 15TH ST  3143834.0  1695035.0 -104.988533   \n",
       "40147    W 29TH AVE / N LOWELL BLVD  3130841.0  1701506.0 -105.034616   \n",
       "40148    E 53RD AVE / N CHAMBERS RD  3193971.0  1713504.0 -104.809755   \n",
       "\n",
       "         GEO_LAT  DISTRICT_ID  PRECINCT_ID NEIGHBORHOOD_ID  BICYCLE_IND  \\\n",
       "40144  39.745019          6.0        611.0             CBD            0   \n",
       "40145  39.740025          6.0        622.0   Cheesman Park            0   \n",
       "40146  39.740564          6.0        611.0    Civic Center            0   \n",
       "40147  39.758519          1.0        113.0   West Highland            0   \n",
       "40148  39.790353          5.0        512.0       Montbello            0   \n",
       "\n",
       "       PEDESTRIAN_IND AccidentDate  \n",
       "40144               0   2014-01-01  \n",
       "40145               0   2014-01-01  \n",
       "40146               0   2014-01-01  \n",
       "40147               0   2014-01-01  \n",
       "40148               0   2014-01-01  "
      ]
     },
     "execution_count": 14,
     "metadata": {},
     "output_type": "execute_result"
    }
   ],
   "source": [
    "# Add the 'AccidentDate' column (drop hour, minutes information) \n",
    "accidents_daily['AccidentDate'] = pd.to_datetime(accidents_daily['FIRST_OCCURENCE_DATE']).dt.to_period('D')\n",
    "accidents_daily.head()"
   ]
  },
  {
   "cell_type": "code",
   "execution_count": 16,
   "metadata": {},
   "outputs": [
    {
     "name": "stdout",
     "output_type": "stream",
     "text": [
      "<class 'pandas.core.frame.DataFrame'>\n",
      "Int64Index: 122485 entries, 40144 to 164226\n",
      "Data columns (total 20 columns):\n",
      "OBJECTID_1                122485 non-null int64\n",
      "INCIDENT_ID               122485 non-null int64\n",
      "OFFENSE_ID                122485 non-null int64\n",
      "OFFENSE_CODE              122485 non-null int64\n",
      "OFFENSE_CODE_EXTENSION    122485 non-null int64\n",
      "OFFENSE_TYPE_ID           122485 non-null object\n",
      "OFFENSE_CATEGORY_ID       122485 non-null object\n",
      "FIRST_OCCURENCE_DATE      122485 non-null datetime64[ns]\n",
      "REPORTED_DATE             122485 non-null datetime64[ns]\n",
      "INCIDENT_ADDRESS          122485 non-null object\n",
      "GEO_X                     122485 non-null float64\n",
      "GEO_Y                     122485 non-null float64\n",
      "GEO_LON                   122485 non-null float64\n",
      "GEO_LAT                   122485 non-null float64\n",
      "DISTRICT_ID               122406 non-null float64\n",
      "PRECINCT_ID               122406 non-null float64\n",
      "NEIGHBORHOOD_ID           122485 non-null object\n",
      "BICYCLE_IND               122485 non-null int64\n",
      "PEDESTRIAN_IND            122485 non-null int64\n",
      "AccidentDate              122485 non-null object\n",
      "dtypes: datetime64[ns](2), float64(6), int64(7), object(5)\n",
      "memory usage: 19.6+ MB\n"
     ]
    }
   ],
   "source": [
    "# Check results\n",
    "accidents_daily.info()"
   ]
  },
  {
   "cell_type": "markdown",
   "metadata": {},
   "source": [
    "\n",
    "Next, let's look at the Denver car accidents statistics at the three aggregation levels - daily, annual, and monthly.\n"
   ]
  },
  {
   "cell_type": "markdown",
   "metadata": {},
   "source": [
    "### Daily accidents"
   ]
  },
  {
   "cell_type": "code",
   "execution_count": 17,
   "metadata": {},
   "outputs": [],
   "source": [
    "# Group accidents on a daily basis\n",
    "accidents_summary=accidents_daily.groupby('AccidentDate')['OBJECTID_1'].count() \n",
    "# convert to a data frame\n",
    "accidents_summary=accidents_summary.to_frame(name='Accidents')"
   ]
  },
  {
   "cell_type": "code",
   "execution_count": 18,
   "metadata": {},
   "outputs": [
    {
     "name": "stdout",
     "output_type": "stream",
     "text": [
      "<class 'pandas.core.frame.DataFrame'>\n",
      "PeriodIndex: 1863 entries, 2014-01-01 to 2019-02-06\n",
      "Freq: D\n",
      "Data columns (total 1 columns):\n",
      "Accidents    1863 non-null int64\n",
      "dtypes: int64(1)\n",
      "memory usage: 29.1 KB\n"
     ]
    }
   ],
   "source": [
    "# Check results\n",
    "accidents_summary.info()"
   ]
  },
  {
   "cell_type": "code",
   "execution_count": 19,
   "metadata": {},
   "outputs": [
    {
     "data": {
      "text/html": [
       "<div>\n",
       "<style scoped>\n",
       "    .dataframe tbody tr th:only-of-type {\n",
       "        vertical-align: middle;\n",
       "    }\n",
       "\n",
       "    .dataframe tbody tr th {\n",
       "        vertical-align: top;\n",
       "    }\n",
       "\n",
       "    .dataframe thead th {\n",
       "        text-align: right;\n",
       "    }\n",
       "</style>\n",
       "<table border=\"1\" class=\"dataframe\">\n",
       "  <thead>\n",
       "    <tr style=\"text-align: right;\">\n",
       "      <th></th>\n",
       "      <th>Accidents</th>\n",
       "    </tr>\n",
       "    <tr>\n",
       "      <th>AccidentDate</th>\n",
       "      <th></th>\n",
       "    </tr>\n",
       "  </thead>\n",
       "  <tbody>\n",
       "    <tr>\n",
       "      <th>2014-01-01</th>\n",
       "      <td>45</td>\n",
       "    </tr>\n",
       "    <tr>\n",
       "      <th>2014-01-02</th>\n",
       "      <td>70</td>\n",
       "    </tr>\n",
       "    <tr>\n",
       "      <th>2014-01-03</th>\n",
       "      <td>59</td>\n",
       "    </tr>\n",
       "    <tr>\n",
       "      <th>2014-01-04</th>\n",
       "      <td>72</td>\n",
       "    </tr>\n",
       "    <tr>\n",
       "      <th>2014-01-05</th>\n",
       "      <td>72</td>\n",
       "    </tr>\n",
       "  </tbody>\n",
       "</table>\n",
       "</div>"
      ],
      "text/plain": [
       "              Accidents\n",
       "AccidentDate           \n",
       "2014-01-01           45\n",
       "2014-01-02           70\n",
       "2014-01-03           59\n",
       "2014-01-04           72\n",
       "2014-01-05           72"
      ]
     },
     "execution_count": 19,
     "metadata": {},
     "output_type": "execute_result"
    }
   ],
   "source": [
    "accidents_summary.head()"
   ]
  },
  {
   "cell_type": "code",
   "execution_count": 20,
   "metadata": {},
   "outputs": [
    {
     "data": {
      "image/png": "[encoded data removed]",
      "text/plain": [
       "<Figure size 1440x1080 with 1 Axes>"
      ]
     },
     "metadata": {},
     "output_type": "display_data"
    }
   ],
   "source": [
    "# Graph daily accident data\n",
    "\n",
    "# set style \n",
    "sns.set(style='darkgrid')\n",
    "\n",
    "# to increase the default size of the graphs\n",
    "from matplotlib.pylab import rcParams\n",
    "rcParams['figure.figsize']=20, 15\n",
    "\n",
    "# plot daily accidents\n",
    "ax=accidents_summary.plot()\n",
    "plt.show()"
   ]
  },
  {
   "cell_type": "code",
   "execution_count": 21,
   "metadata": {},
   "outputs": [
    {
     "data": {
      "text/html": [
       "<div>\n",
       "<style scoped>\n",
       "    .dataframe tbody tr th:only-of-type {\n",
       "        vertical-align: middle;\n",
       "    }\n",
       "\n",
       "    .dataframe tbody tr th {\n",
       "        vertical-align: top;\n",
       "    }\n",
       "\n",
       "    .dataframe thead th {\n",
       "        text-align: right;\n",
       "    }\n",
       "</style>\n",
       "<table border=\"1\" class=\"dataframe\">\n",
       "  <thead>\n",
       "    <tr style=\"text-align: right;\">\n",
       "      <th></th>\n",
       "      <th>Accidents</th>\n",
       "    </tr>\n",
       "  </thead>\n",
       "  <tbody>\n",
       "    <tr>\n",
       "      <th>count</th>\n",
       "      <td>1863.000000</td>\n",
       "    </tr>\n",
       "    <tr>\n",
       "      <th>mean</th>\n",
       "      <td>65.746108</td>\n",
       "    </tr>\n",
       "    <tr>\n",
       "      <th>std</th>\n",
       "      <td>16.586442</td>\n",
       "    </tr>\n",
       "    <tr>\n",
       "      <th>min</th>\n",
       "      <td>10.000000</td>\n",
       "    </tr>\n",
       "    <tr>\n",
       "      <th>25%</th>\n",
       "      <td>54.000000</td>\n",
       "    </tr>\n",
       "    <tr>\n",
       "      <th>50%</th>\n",
       "      <td>66.000000</td>\n",
       "    </tr>\n",
       "    <tr>\n",
       "      <th>75%</th>\n",
       "      <td>77.000000</td>\n",
       "    </tr>\n",
       "    <tr>\n",
       "      <th>max</th>\n",
       "      <td>135.000000</td>\n",
       "    </tr>\n",
       "  </tbody>\n",
       "</table>\n",
       "</div>"
      ],
      "text/plain": [
       "         Accidents\n",
       "count  1863.000000\n",
       "mean     65.746108\n",
       "std      16.586442\n",
       "min      10.000000\n",
       "25%      54.000000\n",
       "50%      66.000000\n",
       "75%      77.000000\n",
       "max     135.000000"
      ]
     },
     "execution_count": 21,
     "metadata": {},
     "output_type": "execute_result"
    }
   ],
   "source": [
    "# Summary statistics for the daily car accidents\n",
    "accidents_summary.describe()"
   ]
  },
  {
   "cell_type": "code",
   "execution_count": 22,
   "metadata": {},
   "outputs": [
    {
     "data": {
      "text/plain": [
       "<matplotlib.axes._subplots.AxesSubplot at 0x12c9b864198>"
      ]
     },
     "execution_count": 22,
     "metadata": {},
     "output_type": "execute_result"
    },
    {
     "data": {
      "image/png": "[encoded data removed]",
      "text/plain": [
       "<Figure size 432x576 with 1 Axes>"
      ]
     },
     "metadata": {},
     "output_type": "display_data"
    }
   ],
   "source": [
    "# Box plot for the daily accidents\n",
    "rcParams['figure.figsize']=6, 8\n",
    "accidents_summary.plot(kind='box')"
   ]
  },
  {
   "cell_type": "markdown",
   "metadata": {},
   "source": [
    "### Annual accident data"
   ]
  },
  {
   "cell_type": "code",
   "execution_count": 23,
   "metadata": {},
   "outputs": [
    {
     "name": "stderr",
     "output_type": "stream",
     "text": [
      "C:\\Users\\RodneyWeakly\\Anaconda3\\lib\\site-packages\\ipykernel_launcher.py:2: SettingWithCopyWarning: \n",
      "A value is trying to be set on a copy of a slice from a DataFrame.\n",
      "Try using .loc[row_indexer,col_indexer] = value instead\n",
      "\n",
      "See the caveats in the documentation: http://pandas.pydata.org/pandas-docs/stable/indexing.html#indexing-view-versus-copy\n",
      "  \n",
      "C:\\Users\\RodneyWeakly\\Anaconda3\\lib\\site-packages\\ipykernel_launcher.py:3: SettingWithCopyWarning: \n",
      "A value is trying to be set on a copy of a slice from a DataFrame.\n",
      "Try using .loc[row_indexer,col_indexer] = value instead\n",
      "\n",
      "See the caveats in the documentation: http://pandas.pydata.org/pandas-docs/stable/indexing.html#indexing-view-versus-copy\n",
      "  This is separate from the ipykernel package so we can avoid doing imports until\n"
     ]
    }
   ],
   "source": [
    "# Extract year and month from the date\n",
    "accidents_daily['Month']=accidents_daily['FIRST_OCCURENCE_DATE'].dt.month\n",
    "accidents_daily['Year']=accidents_daily['FIRST_OCCURENCE_DATE'].dt.year"
   ]
  },
  {
   "cell_type": "code",
   "execution_count": 24,
   "metadata": {},
   "outputs": [
    {
     "name": "stdout",
     "output_type": "stream",
     "text": [
      "<class 'pandas.core.frame.DataFrame'>\n",
      "Int64Index: 122485 entries, 40144 to 164226\n",
      "Data columns (total 22 columns):\n",
      "OBJECTID_1                122485 non-null int64\n",
      "INCIDENT_ID               122485 non-null int64\n",
      "OFFENSE_ID                122485 non-null int64\n",
      "OFFENSE_CODE              122485 non-null int64\n",
      "OFFENSE_CODE_EXTENSION    122485 non-null int64\n",
      "OFFENSE_TYPE_ID           122485 non-null object\n",
      "OFFENSE_CATEGORY_ID       122485 non-null object\n",
      "FIRST_OCCURENCE_DATE      122485 non-null datetime64[ns]\n",
      "REPORTED_DATE             122485 non-null datetime64[ns]\n",
      "INCIDENT_ADDRESS          122485 non-null object\n",
      "GEO_X                     122485 non-null float64\n",
      "GEO_Y                     122485 non-null float64\n",
      "GEO_LON                   122485 non-null float64\n",
      "GEO_LAT                   122485 non-null float64\n",
      "DISTRICT_ID               122406 non-null float64\n",
      "PRECINCT_ID               122406 non-null float64\n",
      "NEIGHBORHOOD_ID           122485 non-null object\n",
      "BICYCLE_IND               122485 non-null int64\n",
      "PEDESTRIAN_IND            122485 non-null int64\n",
      "AccidentDate              122485 non-null object\n",
      "Month                     122485 non-null int64\n",
      "Year                      122485 non-null int64\n",
      "dtypes: datetime64[ns](2), float64(6), int64(9), object(5)\n",
      "memory usage: 21.5+ MB\n"
     ]
    }
   ],
   "source": [
    "# Check results\n",
    "accidents_daily.info()"
   ]
  },
  {
   "cell_type": "code",
   "execution_count": 25,
   "metadata": {},
   "outputs": [
    {
     "name": "stdout",
     "output_type": "stream",
     "text": [
      "<class 'pandas.core.frame.DataFrame'>\n",
      "Int64Index: 6 entries, 2014 to 2019\n",
      "Data columns (total 1 columns):\n",
      "Accidents By Year    6 non-null int64\n",
      "dtypes: int64(1)\n",
      "memory usage: 96.0 bytes\n"
     ]
    }
   ],
   "source": [
    "# Yearly accident data\n",
    "accidents_byyear=accidents_daily.groupby('Year')['OBJECTID_1'].count() \n",
    "accidents_byyear=accidents_byyear.to_frame(name='Accidents By Year')\n",
    "accidents_byyear.info()"
   ]
  },
  {
   "cell_type": "code",
   "execution_count": 26,
   "metadata": {},
   "outputs": [
    {
     "data": {
      "text/html": [
       "<div>\n",
       "<style scoped>\n",
       "    .dataframe tbody tr th:only-of-type {\n",
       "        vertical-align: middle;\n",
       "    }\n",
       "\n",
       "    .dataframe tbody tr th {\n",
       "        vertical-align: top;\n",
       "    }\n",
       "\n",
       "    .dataframe thead th {\n",
       "        text-align: right;\n",
       "    }\n",
       "</style>\n",
       "<table border=\"1\" class=\"dataframe\">\n",
       "  <thead>\n",
       "    <tr style=\"text-align: right;\">\n",
       "      <th></th>\n",
       "      <th>Accidents By Year</th>\n",
       "    </tr>\n",
       "    <tr>\n",
       "      <th>Year</th>\n",
       "      <th></th>\n",
       "    </tr>\n",
       "  </thead>\n",
       "  <tbody>\n",
       "    <tr>\n",
       "      <th>2014</th>\n",
       "      <td>22444</td>\n",
       "    </tr>\n",
       "    <tr>\n",
       "      <th>2015</th>\n",
       "      <td>23842</td>\n",
       "    </tr>\n",
       "    <tr>\n",
       "      <th>2016</th>\n",
       "      <td>24254</td>\n",
       "    </tr>\n",
       "    <tr>\n",
       "      <th>2017</th>\n",
       "      <td>24617</td>\n",
       "    </tr>\n",
       "    <tr>\n",
       "      <th>2018</th>\n",
       "      <td>24899</td>\n",
       "    </tr>\n",
       "  </tbody>\n",
       "</table>\n",
       "</div>"
      ],
      "text/plain": [
       "      Accidents By Year\n",
       "Year                   \n",
       "2014              22444\n",
       "2015              23842\n",
       "2016              24254\n",
       "2017              24617\n",
       "2018              24899"
      ]
     },
     "execution_count": 26,
     "metadata": {},
     "output_type": "execute_result"
    }
   ],
   "source": [
    "# Display accident statistic for the full years (2014-2018)\n",
    "accidents_byyear.iloc[:5]"
   ]
  },
  {
   "cell_type": "code",
   "execution_count": 27,
   "metadata": {},
   "outputs": [
    {
     "data": {
      "text/plain": [
       "<matplotlib.axes._subplots.AxesSubplot at 0x12c9b8c9940>"
      ]
     },
     "execution_count": 27,
     "metadata": {},
     "output_type": "execute_result"
    },
    {
     "data": {
      "image/png": "[encoded data removed]",
      "text/plain": [
       "<Figure size 1080x720 with 1 Axes>"
      ]
     },
     "metadata": {},
     "output_type": "display_data"
    }
   ],
   "source": [
    "# Plot yearly car accidents 2014-2018\n",
    "# Exclude 2019 since data available for one month only\n",
    "\n",
    "rcParams['figure.figsize']= 15, 10\n",
    "sns.lineplot(x=accidents_byyear.index[:5], y=\"Accidents By Year\", data=accidents_byyear.iloc[:5])"
   ]
  },
  {
   "cell_type": "code",
   "execution_count": 28,
   "metadata": {},
   "outputs": [
    {
     "data": {
      "text/html": [
       "<div>\n",
       "<style scoped>\n",
       "    .dataframe tbody tr th:only-of-type {\n",
       "        vertical-align: middle;\n",
       "    }\n",
       "\n",
       "    .dataframe tbody tr th {\n",
       "        vertical-align: top;\n",
       "    }\n",
       "\n",
       "    .dataframe thead th {\n",
       "        text-align: right;\n",
       "    }\n",
       "</style>\n",
       "<table border=\"1\" class=\"dataframe\">\n",
       "  <thead>\n",
       "    <tr style=\"text-align: right;\">\n",
       "      <th></th>\n",
       "      <th>Accidents By Year</th>\n",
       "    </tr>\n",
       "  </thead>\n",
       "  <tbody>\n",
       "    <tr>\n",
       "      <th>count</th>\n",
       "      <td>5.000000</td>\n",
       "    </tr>\n",
       "    <tr>\n",
       "      <th>mean</th>\n",
       "      <td>24011.200000</td>\n",
       "    </tr>\n",
       "    <tr>\n",
       "      <th>std</th>\n",
       "      <td>961.623471</td>\n",
       "    </tr>\n",
       "    <tr>\n",
       "      <th>min</th>\n",
       "      <td>22444.000000</td>\n",
       "    </tr>\n",
       "    <tr>\n",
       "      <th>25%</th>\n",
       "      <td>23842.000000</td>\n",
       "    </tr>\n",
       "    <tr>\n",
       "      <th>50%</th>\n",
       "      <td>24254.000000</td>\n",
       "    </tr>\n",
       "    <tr>\n",
       "      <th>75%</th>\n",
       "      <td>24617.000000</td>\n",
       "    </tr>\n",
       "    <tr>\n",
       "      <th>max</th>\n",
       "      <td>24899.000000</td>\n",
       "    </tr>\n",
       "  </tbody>\n",
       "</table>\n",
       "</div>"
      ],
      "text/plain": [
       "       Accidents By Year\n",
       "count           5.000000\n",
       "mean        24011.200000\n",
       "std           961.623471\n",
       "min         22444.000000\n",
       "25%         23842.000000\n",
       "50%         24254.000000\n",
       "75%         24617.000000\n",
       "max         24899.000000"
      ]
     },
     "execution_count": 28,
     "metadata": {},
     "output_type": "execute_result"
    }
   ],
   "source": [
    "# Summary statistics for yearly accidents\n",
    "accidents_byyear.iloc[:5].describe()"
   ]
  },
  {
   "cell_type": "code",
   "execution_count": 29,
   "metadata": {},
   "outputs": [
    {
     "data": {
      "text/plain": [
       "<matplotlib.axes._subplots.AxesSubplot at 0x12c9bba6518>"
      ]
     },
     "execution_count": 29,
     "metadata": {},
     "output_type": "execute_result"
    },
    {
     "data": {
      "image/png": "[encoded data removed]",
      "text/plain": [
       "<Figure size 432x576 with 1 Axes>"
      ]
     },
     "metadata": {},
     "output_type": "display_data"
    }
   ],
   "source": [
    "# Box plot for annual accidents\n",
    "rcParams['figure.figsize']=6, 8\n",
    "accidents_byyear.iloc[:5].plot(kind='box')"
   ]
  },
  {
   "cell_type": "markdown",
   "metadata": {},
   "source": [
    "### Monthly Accidents Data"
   ]
  },
  {
   "cell_type": "code",
   "execution_count": 30,
   "metadata": {},
   "outputs": [],
   "source": [
    "# Montly accident data\n",
    "accidents_bymonth=pd.DataFrame()\n",
    "accidents_bymonth['Number Of Accidents']=accidents_daily.groupby(['Year', 'Month'])['OBJECTID_1'].count()"
   ]
  },
  {
   "cell_type": "code",
   "execution_count": 31,
   "metadata": {},
   "outputs": [
    {
     "name": "stdout",
     "output_type": "stream",
     "text": [
      "<class 'pandas.core.frame.DataFrame'>\n",
      "MultiIndex: 62 entries, (2014, 1) to (2019, 2)\n",
      "Data columns (total 1 columns):\n",
      "Number Of Accidents    62 non-null int64\n",
      "dtypes: int64(1)\n",
      "memory usage: 881.0 bytes\n"
     ]
    }
   ],
   "source": [
    "# Check results\n",
    "accidents_bymonth.info()"
   ]
  },
  {
   "cell_type": "code",
   "execution_count": 32,
   "metadata": {},
   "outputs": [
    {
     "data": {
      "image/png": "[encoded data removed]",
      "text/plain": [
       "<Figure size 1440x1080 with 1 Axes>"
      ]
     },
     "metadata": {},
     "output_type": "display_data"
    }
   ],
   "source": [
    "# Plot monthly car accidents January 2014- January 2019 \n",
    "# Exclude February 2019 since data is incomplete\n",
    "rcParams['figure.figsize']= 20, 15\n",
    "ax=accidents_bymonth.iloc[:61].plot()\n",
    "plt.show()"
   ]
  },
  {
   "cell_type": "code",
   "execution_count": 33,
   "metadata": {},
   "outputs": [
    {
     "data": {
      "text/html": [
       "<div>\n",
       "<style scoped>\n",
       "    .dataframe tbody tr th:only-of-type {\n",
       "        vertical-align: middle;\n",
       "    }\n",
       "\n",
       "    .dataframe tbody tr th {\n",
       "        vertical-align: top;\n",
       "    }\n",
       "\n",
       "    .dataframe thead th {\n",
       "        text-align: right;\n",
       "    }\n",
       "</style>\n",
       "<table border=\"1\" class=\"dataframe\">\n",
       "  <thead>\n",
       "    <tr style=\"text-align: right;\">\n",
       "      <th></th>\n",
       "      <th>Number Of Accidents</th>\n",
       "    </tr>\n",
       "  </thead>\n",
       "  <tbody>\n",
       "    <tr>\n",
       "      <th>count</th>\n",
       "      <td>61.000000</td>\n",
       "    </tr>\n",
       "    <tr>\n",
       "      <th>mean</th>\n",
       "      <td>2002.409836</td>\n",
       "    </tr>\n",
       "    <tr>\n",
       "      <th>std</th>\n",
       "      <td>145.449003</td>\n",
       "    </tr>\n",
       "    <tr>\n",
       "      <th>min</th>\n",
       "      <td>1683.000000</td>\n",
       "    </tr>\n",
       "    <tr>\n",
       "      <th>25%</th>\n",
       "      <td>1905.000000</td>\n",
       "    </tr>\n",
       "    <tr>\n",
       "      <th>50%</th>\n",
       "      <td>2004.000000</td>\n",
       "    </tr>\n",
       "    <tr>\n",
       "      <th>75%</th>\n",
       "      <td>2100.000000</td>\n",
       "    </tr>\n",
       "    <tr>\n",
       "      <th>max</th>\n",
       "      <td>2272.000000</td>\n",
       "    </tr>\n",
       "  </tbody>\n",
       "</table>\n",
       "</div>"
      ],
      "text/plain": [
       "       Number Of Accidents\n",
       "count            61.000000\n",
       "mean           2002.409836\n",
       "std             145.449003\n",
       "min            1683.000000\n",
       "25%            1905.000000\n",
       "50%            2004.000000\n",
       "75%            2100.000000\n",
       "max            2272.000000"
      ]
     },
     "execution_count": 33,
     "metadata": {},
     "output_type": "execute_result"
    }
   ],
   "source": [
    "# Summary statistics for monthly accidents (excluding February 2019 because data is incomplete)\n",
    "accidents_bymonth.iloc[:61].describe()"
   ]
  },
  {
   "cell_type": "code",
   "execution_count": 34,
   "metadata": {},
   "outputs": [
    {
     "data": {
      "text/plain": [
       "<matplotlib.axes._subplots.AxesSubplot at 0x12c9bea2550>"
      ]
     },
     "execution_count": 34,
     "metadata": {},
     "output_type": "execute_result"
    },
    {
     "data": {
      "image/png": "[encoded data removed]",
      "text/plain": [
       "<Figure size 432x576 with 1 Axes>"
      ]
     },
     "metadata": {},
     "output_type": "display_data"
    }
   ],
   "source": [
    "# Box plot for monthly accidents\n",
    "rcParams['figure.figsize']=6, 8\n",
    "accidents_bymonth.iloc[:61].plot(kind='box')"
   ]
  },
  {
   "cell_type": "markdown",
   "metadata": {},
   "source": [
    "### Map accidents"
   ]
  },
  {
   "cell_type": "code",
   "execution_count": 35,
   "metadata": {},
   "outputs": [],
   "source": [
    "# Map accidents for 2018 for demo purposes\n",
    "\n",
    "# filter accidents by year 2018\n",
    "accident_daily2018=accidents_daily[accidents_daily['Year']==2018][['OBJECTID_1', 'GEO_LON', 'GEO_LAT']]"
   ]
  },
  {
   "cell_type": "code",
   "execution_count": 36,
   "metadata": {},
   "outputs": [],
   "source": [
    "import folium\n",
    "\n",
    "Denver_Coordinates = (39.742043, -104.991531)\n",
    "#create an empty map zoomed in on Denver\n",
    "map=folium.Map(location=Denver_Coordinates, zoom_start=11)\n",
    "fgv=folium.FeatureGroup(name='Car Accidents, 2018')\n",
    "for i in range(0, len(accident_daily2018)):\n",
    "    fgv.add_child(folium.CircleMarker(location=[accident_daily2018.iloc[i]['GEO_LAT'], accident_daily2018.iloc[i]['GEO_LON']], radius=2, color='red', fill=True, fill_color='red', fill_opacity=0.7))\n",
    "map.add_child(fgv)\n",
    "map.add_child(folium.LayerControl())\n",
    "map.save(\"Accidents2018_1.html\") # Save the map to a file"
   ]
  },
  {
   "cell_type": "code",
   "execution_count": 37,
   "metadata": {},
   "outputs": [
    {
     "data": {
      "text/html": [
       "<iframe src=Accidents2018_1.html width=1000 height=600></iframe>"
      ],
      "text/plain": [
       "<IPython.core.display.HTML object>"
      ]
     },
     "execution_count": 37,
     "metadata": {},
     "output_type": "execute_result"
    }
   ],
   "source": [
    "# Display the interactive map from the file created in the previous step\n",
    "from IPython.display import HTML\n",
    "HTML('<iframe src=Accidents2018_1.html width=1000 height=600></iframe>')"
   ]
  },
  {
   "cell_type": "code",
   "execution_count": 38,
   "metadata": {},
   "outputs": [],
   "source": [
    "#Clusters\n",
    "from folium.plugins import MarkerCluster\n",
    "MarkerCluster()\n",
    "#create an empty map zoomed in on Denver\n",
    "map2=folium.Map(location=Denver_Coordinates, zoom_start=11)\n",
    "clust=MarkerCluster().add_to(map2)                      \n",
    "\n",
    "for i in range(0, len(accident_daily2018)):\n",
    "    folium.Marker(location=[accident_daily2018.iloc[i]['GEO_LAT'], accident_daily2018.iloc[i]['GEO_LON']]).add_to(clust)\n",
    "map2.save(\"Accidents2018_cluster.html\") #Save the map to a file"
   ]
  },
  {
   "cell_type": "code",
   "execution_count": 39,
   "metadata": {},
   "outputs": [
    {
     "data": {
      "text/html": [
       "<iframe src=Accidents2018_cluster.html width=1000 height=600></iframe>"
      ],
      "text/plain": [
       "<IPython.core.display.HTML object>"
      ]
     },
     "execution_count": 39,
     "metadata": {},
     "output_type": "execute_result"
    }
   ],
   "source": [
    "# Retrieve the map from the file\n",
    "from IPython.display import HTML\n",
    "HTML('<iframe src=Accidents2018_cluster.html width=1000 height=600></iframe>')"
   ]
  },
  {
   "cell_type": "code",
   "execution_count": 40,
   "metadata": {},
   "outputs": [
    {
     "name": "stderr",
     "output_type": "stream",
     "text": [
      "C:\\Users\\RodneyWeakly\\Anaconda3\\lib\\site-packages\\ipykernel_launcher.py:2: UserWarning: Boolean Series key will be reindexed to match DataFrame index.\n",
      "  \n"
     ]
    }
   ],
   "source": [
    "# filter accidents - 2018 bicycle accident only \n",
    "accidents_bicycle2018=accidents_daily[accidents_daily['Year']==2018][accidents_daily['BICYCLE_IND']!=0][['OBJECTID_1', 'GEO_LON', 'GEO_LAT']]"
   ]
  },
  {
   "cell_type": "code",
   "execution_count": 41,
   "metadata": {},
   "outputs": [
    {
     "name": "stdout",
     "output_type": "stream",
     "text": [
      "<class 'pandas.core.frame.DataFrame'>\n",
      "Int64Index: 333 entries, 135200 to 163543\n",
      "Data columns (total 3 columns):\n",
      "OBJECTID_1    333 non-null int64\n",
      "GEO_LON       333 non-null float64\n",
      "GEO_LAT       333 non-null float64\n",
      "dtypes: float64(2), int64(1)\n",
      "memory usage: 10.4 KB\n"
     ]
    }
   ],
   "source": [
    "accidents_bicycle2018.info()"
   ]
  },
  {
   "cell_type": "code",
   "execution_count": 42,
   "metadata": {},
   "outputs": [
    {
     "data": {
      "text/html": [
       "<iframe src=Accidents2018_bicycle.html width=1000 height=600></iframe>"
      ],
      "text/plain": [
       "<IPython.core.display.HTML object>"
      ]
     },
     "execution_count": 42,
     "metadata": {},
     "output_type": "execute_result"
    }
   ],
   "source": [
    "#2018 Bicycle Accidents Clusters\n",
    "map3=folium.Map(location=Denver_Coordinates, zoom_start=11)\n",
    "clust2=MarkerCluster().add_to(map3)                      \n",
    "\n",
    "for i in range(0, len(accidents_bicycle2018)):\n",
    "    folium.Marker(location=[accidents_bicycle2018.iloc[i]['GEO_LAT'], accidents_bicycle2018.iloc[i]['GEO_LON']]).add_to(clust2)\n",
    "map3.save(\"Accidents2018_bicycle.html\") \n",
    "from IPython.display import HTML\n",
    "HTML('<iframe src=Accidents2018_bicycle.html width=1000 height=600></iframe>')"
   ]
  },
  {
   "cell_type": "code",
   "execution_count": 43,
   "metadata": {},
   "outputs": [
    {
     "name": "stderr",
     "output_type": "stream",
     "text": [
      "C:\\Users\\RodneyWeakly\\Anaconda3\\lib\\site-packages\\ipykernel_launcher.py:2: UserWarning: Boolean Series key will be reindexed to match DataFrame index.\n",
      "  \n"
     ]
    }
   ],
   "source": [
    "# filter accidents - 2018 pedestrian accident only \n",
    "accidents_pedestrian2018=accidents_daily[accidents_daily['Year']==2018][accidents_daily['PEDESTRIAN_IND']!=0][['OBJECTID_1', 'GEO_LON', 'GEO_LAT']]"
   ]
  },
  {
   "cell_type": "code",
   "execution_count": 44,
   "metadata": {},
   "outputs": [
    {
     "name": "stdout",
     "output_type": "stream",
     "text": [
      "<class 'pandas.core.frame.DataFrame'>\n",
      "Int64Index: 558 entries, 135341 to 163812\n",
      "Data columns (total 3 columns):\n",
      "OBJECTID_1    558 non-null int64\n",
      "GEO_LON       558 non-null float64\n",
      "GEO_LAT       558 non-null float64\n",
      "dtypes: float64(2), int64(1)\n",
      "memory usage: 17.4 KB\n"
     ]
    }
   ],
   "source": [
    "accidents_pedestrian2018.info()"
   ]
  },
  {
   "cell_type": "code",
   "execution_count": 45,
   "metadata": {},
   "outputs": [
    {
     "data": {
      "text/html": [
       "<iframe src=Accidents2018_pedestrian.html width=1000 height=600></iframe>"
      ],
      "text/plain": [
       "<IPython.core.display.HTML object>"
      ]
     },
     "execution_count": 45,
     "metadata": {},
     "output_type": "execute_result"
    }
   ],
   "source": [
    "# 2018 Pedestrian Accidents Clusters\n",
    "map4=folium.Map(location=Denver_Coordinates, zoom_start=11)\n",
    "clust3=MarkerCluster().add_to(map4)                      \n",
    "\n",
    "for i in range(0, len(accidents_pedestrian2018)):\n",
    "    folium.Marker(location=[accidents_pedestrian2018.iloc[i]['GEO_LAT'], accidents_pedestrian2018.iloc[i]['GEO_LON']]).add_to(clust3)\n",
    "map4.save(\"Accidents2018_pedestrian.html\")\n",
    "from IPython.display import HTML\n",
    "HTML('<iframe src=Accidents2018_pedestrian.html width=1000 height=600></iframe>')"
   ]
  },
  {
   "cell_type": "code",
   "execution_count": 46,
   "metadata": {},
   "outputs": [
    {
     "name": "stderr",
     "output_type": "stream",
     "text": [
      "C:\\Users\\RodneyWeakly\\Anaconda3\\lib\\site-packages\\ipykernel_launcher.py:2: UserWarning: Boolean Series key will be reindexed to match DataFrame index.\n",
      "  \n"
     ]
    }
   ],
   "source": [
    "# filter accidents - 2018 DUI \n",
    "accidents_DUI2018=accidents_daily[accidents_daily['Year']==2018][accidents_daily['OFFENSE_TYPE_ID']=='TRF-ACDT-DUI'][['OBJECTID_1', 'GEO_LON', 'GEO_LAT']]"
   ]
  },
  {
   "cell_type": "code",
   "execution_count": 47,
   "metadata": {},
   "outputs": [
    {
     "name": "stdout",
     "output_type": "stream",
     "text": [
      "<class 'pandas.core.frame.DataFrame'>\n",
      "Int64Index: 698 entries, 135046 to 163867\n",
      "Data columns (total 3 columns):\n",
      "OBJECTID_1    698 non-null int64\n",
      "GEO_LON       698 non-null float64\n",
      "GEO_LAT       698 non-null float64\n",
      "dtypes: float64(2), int64(1)\n",
      "memory usage: 21.8 KB\n"
     ]
    }
   ],
   "source": [
    "accidents_DUI2018.info()"
   ]
  },
  {
   "cell_type": "code",
   "execution_count": 48,
   "metadata": {},
   "outputs": [
    {
     "data": {
      "text/html": [
       "<iframe src=Accidents2018_DUI.html width=1000 height=600></iframe>"
      ],
      "text/plain": [
       "<IPython.core.display.HTML object>"
      ]
     },
     "execution_count": 48,
     "metadata": {},
     "output_type": "execute_result"
    }
   ],
   "source": [
    "# 2018 DUI Accidents Clusters\n",
    "map5=folium.Map(location=Denver_Coordinates, zoom_start=11)\n",
    "clust4=MarkerCluster().add_to(map5)                      \n",
    "\n",
    "for i in range(0, len(accidents_DUI2018)):\n",
    "    folium.Marker(location=[accidents_DUI2018.iloc[i]['GEO_LAT'], accidents_DUI2018.iloc[i]['GEO_LON']]).add_to(clust4)\n",
    "map5.save(\"Accidents2018_DUI.html\")\n",
    "from IPython.display import HTML\n",
    "HTML('<iframe src=Accidents2018_DUI.html width=1000 height=600></iframe>')"
   ]
  },
  {
   "cell_type": "markdown",
   "metadata": {},
   "source": [
    "### Additional summary tables"
   ]
  },
  {
   "cell_type": "code",
   "execution_count": 49,
   "metadata": {},
   "outputs": [
    {
     "data": {
      "text/plain": [
       "Year  Month  OFFENSE_TYPE_ID\n",
       "2014  1      TRAF-ACCIDENT-       48\n",
       "             TRAF-HIT & RUN      454\n",
       "             TRF-ACCIDENT       1336\n",
       "             TRF-ACDT-DUI         59\n",
       "      2      TRAF-ACCIDENT-       38\n",
       "             TRAF-HIT & RUN      474\n",
       "             TRF-ACCIDENT       1104\n",
       "             TRF-ACDT-DUI         67\n",
       "      3      TRAF-ACCIDENT-       49\n",
       "             TRAF-HIT & RUN      423\n",
       "             TRF-ACCIDENT       1172\n",
       "             TRF-ACDT-DUI         75\n",
       "      4      TRAF-ACCIDENT-       37\n",
       "             TRAF-HIT & RUN      465\n",
       "             TRF-ACCIDENT       1160\n",
       "             TRF-ACDT-DUI         58\n",
       "      5      TRAF-ACCIDENT-       35\n",
       "             TRAF-HIT & RUN      459\n",
       "             TRF-ACCIDENT       1235\n",
       "             TRF-ACDT-DUI         63\n",
       "      6      TRAF-ACCIDENT-       44\n",
       "             TRAF-HIT & RUN      466\n",
       "             TRF-ACCIDENT       1277\n",
       "             TRF-ACDT-DUI         61\n",
       "      7      TRAF-ACCIDENT-       49\n",
       "             TRAF-HIT & RUN      488\n",
       "             TRF-ACCIDENT       1293\n",
       "             TRF-ACDT-DUI         65\n",
       "      8      TRAF-ACCIDENT-       52\n",
       "             TRAF-HIT & RUN      472\n",
       "                                ... \n",
       "2018  7      TRF-ACCIDENT       1425\n",
       "             TRF-ACDT-DUI         41\n",
       "      8      TRAF-ACCIDENT-       67\n",
       "             TRAF-HIT & RUN      604\n",
       "             TRF-ACCIDENT       1415\n",
       "             TRF-ACDT-DUI         60\n",
       "      9      TRAF-ACCIDENT-       80\n",
       "             TRAF-HIT & RUN      605\n",
       "             TRF-ACCIDENT       1443\n",
       "             TRF-ACDT-DUI         75\n",
       "      10     TRAF-ACCIDENT-       58\n",
       "             TRAF-HIT & RUN      598\n",
       "             TRF-ACCIDENT       1559\n",
       "             TRF-ACDT-DUI         55\n",
       "      11     TRAF-ACCIDENT-       45\n",
       "             TRAF-HIT & RUN      570\n",
       "             TRF-ACCIDENT       1394\n",
       "             TRF-ACDT-DUI         67\n",
       "      12     TRAF-ACCIDENT-       50\n",
       "             TRAF-HIT & RUN      527\n",
       "             TRF-ACCIDENT       1277\n",
       "             TRF-ACDT-DUI         64\n",
       "2019  1      TRAF-ACCIDENT-       62\n",
       "             TRAF-HIT & RUN      568\n",
       "             TRF-ACCIDENT       1423\n",
       "             TRF-ACDT-DUI         38\n",
       "      2      TRAF-ACCIDENT-        8\n",
       "             TRAF-HIT & RUN       95\n",
       "             TRF-ACCIDENT        221\n",
       "             TRF-ACDT-DUI         14\n",
       "Name: OFFENSE_TYPE_ID, Length: 248, dtype: int64"
      ]
     },
     "execution_count": 49,
     "metadata": {},
     "output_type": "execute_result"
    }
   ],
   "source": [
    "# Montly accident data by incident type\n",
    "accidents_daily.groupby(['Year', 'Month', 'OFFENSE_TYPE_ID'])['OFFENSE_TYPE_ID'].count()"
   ]
  },
  {
   "cell_type": "code",
   "execution_count": 50,
   "metadata": {},
   "outputs": [
    {
     "data": {
      "text/plain": [
       "OFFENSE_TYPE_ID  Year\n",
       "TRAF-ACCIDENT-   2014      578\n",
       "                 2015      624\n",
       "                 2016      642\n",
       "                 2017      617\n",
       "                 2018      648\n",
       "                 2019       70\n",
       "TRAF-HIT & RUN   2014     5577\n",
       "                 2015     5933\n",
       "                 2016     6444\n",
       "                 2017     6809\n",
       "                 2018     6859\n",
       "                 2019      663\n",
       "TRF-ACCIDENT     2014    15474\n",
       "                 2015    16506\n",
       "                 2016    16476\n",
       "                 2017    16583\n",
       "                 2018    16694\n",
       "                 2019     1644\n",
       "TRF-ACDT-DUI     2014      815\n",
       "                 2015      779\n",
       "                 2016      692\n",
       "                 2017      608\n",
       "                 2018      698\n",
       "                 2019       52\n",
       "Name: OFFENSE_TYPE_ID, dtype: int64"
      ]
     },
     "execution_count": 50,
     "metadata": {},
     "output_type": "execute_result"
    }
   ],
   "source": [
    "# Yearly accident data by offense type\n",
    "accidents_daily.groupby(['OFFENSE_TYPE_ID', 'Year'])['OFFENSE_TYPE_ID'].count() "
   ]
  },
  {
   "cell_type": "code",
   "execution_count": 51,
   "metadata": {},
   "outputs": [
    {
     "data": {
      "text/plain": [
       "Year  NEIGHBORHOOD_ID             \n",
       "2014  Athmar Park                      255\n",
       "      Auraria                          175\n",
       "      Baker                           1219\n",
       "      Barnum                           260\n",
       "      Barnum West                      137\n",
       "      Bear Valley                       93\n",
       "      Belcaro                          228\n",
       "      Berkeley                         228\n",
       "      CBD                              487\n",
       "      Capitol Hill                     690\n",
       "      Chaffee Park                      93\n",
       "      Cheesman Park                    298\n",
       "      Cherry Creek                     408\n",
       "      City Park                        142\n",
       "      City Park West                   212\n",
       "      Civic Center                     326\n",
       "      Clayton                           99\n",
       "      Cole                              79\n",
       "      College View - South Platte      211\n",
       "      Congress Park                    452\n",
       "      Cory - Merrill                   139\n",
       "      Country Club                      74\n",
       "      DIA                              296\n",
       "      East Colfax                      263\n",
       "      Elyria Swansea                   440\n",
       "      Five Points                      665\n",
       "      Fort Logan                        94\n",
       "      Gateway - Green Valley Ranch     347\n",
       "      Globeville                       550\n",
       "      Goldsmith                        252\n",
       "                                      ... \n",
       "2019  Northeast Park Hill               55\n",
       "      Overland                          40\n",
       "      Platt Park                        12\n",
       "      Regis                             11\n",
       "      Rosedale                          12\n",
       "      Ruby Hill                         21\n",
       "      Skyland                            8\n",
       "      Sloan Lake                        15\n",
       "      South Park Hill                   18\n",
       "      Southmoor Park                     9\n",
       "      Speer                             55\n",
       "      Stapleton                        137\n",
       "      Sun Valley                        12\n",
       "      Sunnyside                         30\n",
       "      Union Station                     45\n",
       "      University                        26\n",
       "      University Hills                  14\n",
       "      University Park                   16\n",
       "      Valverde                          16\n",
       "      Villa Park                        35\n",
       "      Virginia Village                  25\n",
       "      Washington Park                   28\n",
       "      Washington Park West              39\n",
       "      Washington Virginia Vale          35\n",
       "      Wellshire                          7\n",
       "      West Colfax                       35\n",
       "      West Highland                     27\n",
       "      Westwood                          54\n",
       "      Whittier                          11\n",
       "      Windsor                           30\n",
       "Name: OFFENSE_TYPE_ID, Length: 473, dtype: int64"
      ]
     },
     "execution_count": 51,
     "metadata": {},
     "output_type": "execute_result"
    }
   ],
   "source": [
    "# Yearly accident data by neighborhood \n",
    "accidents_daily.groupby(['Year', 'NEIGHBORHOOD_ID'])['OFFENSE_TYPE_ID'].count()"
   ]
  },
  {
   "cell_type": "code",
   "execution_count": 52,
   "metadata": {},
   "outputs": [
    {
     "data": {
      "text/plain": [
       "BICYCLE_IND  Year  NEIGHBORHOOD_ID             \n",
       "0            2014  Athmar Park                      252\n",
       "                   Auraria                          173\n",
       "                   Baker                           1206\n",
       "                   Barnum                           256\n",
       "                   Barnum West                      136\n",
       "                   Bear Valley                       93\n",
       "                   Belcaro                          224\n",
       "                   Berkeley                         227\n",
       "                   CBD                              469\n",
       "                   Capitol Hill                     665\n",
       "                   Chaffee Park                      93\n",
       "                   Cheesman Park                    287\n",
       "                   Cherry Creek                     405\n",
       "                   City Park                        140\n",
       "                   City Park West                   205\n",
       "                   Civic Center                     313\n",
       "                   Clayton                           99\n",
       "                   Cole                              73\n",
       "                   College View - South Platte      207\n",
       "                   Congress Park                    443\n",
       "                   Cory - Merrill                   139\n",
       "                   Country Club                      71\n",
       "                   DIA                              296\n",
       "                   East Colfax                      261\n",
       "                   Elyria Swansea                   440\n",
       "                   Five Points                      642\n",
       "                   Fort Logan                        93\n",
       "                   Gateway - Green Valley Ranch     343\n",
       "                   Globeville                       550\n",
       "                   Goldsmith                        250\n",
       "                                                   ... \n",
       "1            2018  West Colfax                        5\n",
       "                   West Highland                      7\n",
       "                   Westwood                           6\n",
       "                   Whittier                           3\n",
       "                   Windsor                            3\n",
       "             2019  Athmar Park                        1\n",
       "                   Auraria                            2\n",
       "                   Baker                              2\n",
       "                   City Park West                     1\n",
       "                   Five Points                        1\n",
       "                   Globeville                         1\n",
       "                   North Capitol Hill                 3\n",
       "                   Northeast Park Hill                1\n",
       "                   Speer                              1\n",
       "                   Union Station                      2\n",
       "2            2014  East Colfax                        1\n",
       "                   Five Points                        1\n",
       "                   Kennedy                            1\n",
       "                   Overland                           1\n",
       "             2015  College View - South Platte        1\n",
       "                   Globeville                         1\n",
       "                   Lowry Field                        1\n",
       "             2016  Globeville                         1\n",
       "                   North Capitol Hill                 1\n",
       "             2017  Cheesman Park                      1\n",
       "             2018  Five Points                        2\n",
       "                   Sun Valley                         1\n",
       "             2019  Auraria                            1\n",
       "                   Five Points                        1\n",
       "4            2014  Cheesman Park                      2\n",
       "Name: OFFENSE_TYPE_ID, Length: 831, dtype: int64"
      ]
     },
     "execution_count": 52,
     "metadata": {},
     "output_type": "execute_result"
    }
   ],
   "source": [
    "#Yearly bicycle accident data by neighborhood \n",
    "accidents_daily.groupby(['BICYCLE_IND','Year', 'NEIGHBORHOOD_ID'])['OFFENSE_TYPE_ID'].count()"
   ]
  },
  {
   "cell_type": "code",
   "execution_count": 53,
   "metadata": {},
   "outputs": [
    {
     "data": {
      "text/plain": [
       "PEDESTRIAN_IND  Year  NEIGHBORHOOD_ID             \n",
       "0               2014  Athmar Park                      247\n",
       "                      Auraria                          166\n",
       "                      Baker                           1207\n",
       "                      Barnum                           260\n",
       "                      Barnum West                      133\n",
       "                      Bear Valley                       92\n",
       "                      Belcaro                          222\n",
       "                      Berkeley                         221\n",
       "                      CBD                              464\n",
       "                      Capitol Hill                     671\n",
       "                      Chaffee Park                      90\n",
       "                      Cheesman Park                    282\n",
       "                      Cherry Creek                     396\n",
       "                      City Park                        140\n",
       "                      City Park West                   208\n",
       "                      Civic Center                     313\n",
       "                      Clayton                           93\n",
       "                      Cole                              78\n",
       "                      College View - South Platte      197\n",
       "                      Congress Park                    441\n",
       "                      Cory - Merrill                   131\n",
       "                      Country Club                      74\n",
       "                      DIA                              291\n",
       "                      East Colfax                      254\n",
       "                      Elyria Swansea                   438\n",
       "                      Five Points                      639\n",
       "                      Fort Logan                        94\n",
       "                      Gateway - Green Valley Ranch     338\n",
       "                      Globeville                       546\n",
       "                      Goldsmith                        243\n",
       "                                                      ... \n",
       "2               2018  DIA                                1\n",
       "                      Lowry Field                        1\n",
       "                      Montbello                          1\n",
       "                      Speer                              1\n",
       "                      Stapleton                          1\n",
       "                      Sun Valley                         1\n",
       "                      Washington Park                    1\n",
       "                      West Colfax                        1\n",
       "                2019  DIA                                1\n",
       "                      Globeville                         1\n",
       "                      Highland                           1\n",
       "3               2014  Rosedale                           1\n",
       "                      Speer                              1\n",
       "                      Westwood                           2\n",
       "                2015  Stapleton                          1\n",
       "                      Valverde                           1\n",
       "                      Washington Park                    1\n",
       "                2016  Baker                              1\n",
       "                      Five Points                        1\n",
       "                2017  CBD                                2\n",
       "                      Harvey Park South                  1\n",
       "                      Montbello                          1\n",
       "                      Sun Valley                         1\n",
       "                      Westwood                           1\n",
       "                2018  Civic Center                       2\n",
       "                      Highland                           2\n",
       "                      Union Station                      1\n",
       "                      Washington Virginia Vale           1\n",
       "4               2014  Baker                              1\n",
       "                      Wellshire                          3\n",
       "Name: OBJECTID_1, Length: 969, dtype: int64"
      ]
     },
     "execution_count": 53,
     "metadata": {},
     "output_type": "execute_result"
    }
   ],
   "source": [
    "# Yearly pedestrian accidents by neigborhood\n",
    "accidents_daily.groupby(['PEDESTRIAN_IND','Year', 'NEIGHBORHOOD_ID'])['OBJECTID_1'].count()"
   ]
  },
  {
   "cell_type": "markdown",
   "metadata": {},
   "source": [
    "### File output"
   ]
  },
  {
   "cell_type": "code",
   "execution_count": 54,
   "metadata": {},
   "outputs": [],
   "source": [
    "# Output monthly car accident data to a file for future use\n",
    "accidents_bymonth.to_csv('monthlyaccidents.csv', date_format='%Y-%m-%d %H:%M:%S')"
   ]
  },
  {
   "cell_type": "code",
   "execution_count": null,
   "metadata": {},
   "outputs": [],
   "source": []
  }
 ],
 "metadata": {
  "kernelspec": {
   "display_name": "Python 3",
   "language": "python",
   "name": "python3"
  },
  "language_info": {
   "codemirror_mode": {
    "name": "ipython",
    "version": 3
   },
   "file_extension": ".py",
   "mimetype": "text/x-python",
   "name": "python",
   "nbconvert_exporter": "python",
   "pygments_lexer": "ipython3",
   "version": "3.7.0"
  }
 },
 "nbformat": 4,
 "nbformat_minor": 2
}
